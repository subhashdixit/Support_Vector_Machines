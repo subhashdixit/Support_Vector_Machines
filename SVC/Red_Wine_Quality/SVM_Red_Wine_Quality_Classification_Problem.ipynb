{
  "nbformat": 4,
  "nbformat_minor": 0,
  "metadata": {
    "colab": {
      "provenance": [],
      "collapsed_sections": []
    },
    "kernelspec": {
      "name": "python3",
      "display_name": "Python 3"
    },
    "language_info": {
      "name": "python"
    }
  },
  "cells": [
    {
      "cell_type": "markdown",
      "source": [
        "# **Multi Classification Problem**\n",
        "* **Classify the quality of Red-Wine**"
      ],
      "metadata": {
        "id": "TOJVUdid21jx"
      }
    },
    {
      "cell_type": "markdown",
      "source": [
        "**Import requires libraries**"
      ],
      "metadata": {
        "id": "dK5F8GRn2W_c"
      }
    },
    {
      "cell_type": "code",
      "source": [
        "import pandas as pd\n",
        "import numpy as np\n",
        "import matplotlib.pyplot as plt\n",
        "import seaborn as sns\n",
        "import warnings\n",
        "from sklearn.model_selection import train_test_split\n",
        "from sklearn.preprocessing import StandardScaler\n",
        "from sklearn.metrics import mean_squared_error\n",
        "from sklearn.metrics import mean_absolute_error\n",
        "from sklearn.metrics import r2_score\n",
        "warnings.filterwarnings('ignore')\n",
        "%matplotlib inline\n",
        "pd.set_option('display.max_columns', 500)"
      ],
      "metadata": {
        "id": "H0QyLKPqdSys"
      },
      "execution_count": 1,
      "outputs": []
    },
    {
      "cell_type": "markdown",
      "source": [
        "**Read the data**"
      ],
      "metadata": {
        "id": "9Ba-FbTL2esY"
      }
    },
    {
      "cell_type": "code",
      "execution_count": 2,
      "metadata": {
        "id": "lPu3O6HIg4Ud"
      },
      "outputs": [],
      "source": [
        "df = pd.read_csv('https://raw.githubusercontent.com/subhashdixit/Support_Vector_Machines/main/SVC/Red_Wine_Quality/winequality-red.csv')"
      ]
    },
    {
      "cell_type": "code",
      "source": [
        "df.drop(['Unnamed: 0'], axis = 1, inplace = True )\n",
        "df.head()"
      ],
      "metadata": {
        "colab": {
          "base_uri": "https://localhost:8080/",
          "height": 250
        },
        "id": "OzvI0dIOaAO9",
        "outputId": "cede65cb-4975-43ed-fee5-5038452378c5"
      },
      "execution_count": 3,
      "outputs": [
        {
          "output_type": "execute_result",
          "data": {
            "text/plain": [
              "   fixed acidity  volatile acidity  citric acid  residual sugar  chlorides  \\\n",
              "0            7.4              0.70         0.00             1.9      0.076   \n",
              "1            7.8              0.88         0.00             2.6      0.098   \n",
              "2            7.8              0.76         0.04             2.3      0.092   \n",
              "3           11.2              0.28         0.56             1.9      0.075   \n",
              "4            7.4              0.70         0.00             1.9      0.076   \n",
              "\n",
              "   free sulfur dioxide  total sulfur dioxide  density    pH  sulphates  \\\n",
              "0                 11.0                  34.0   0.9978  3.51       0.56   \n",
              "1                 25.0                  67.0   0.9968  3.20       0.68   \n",
              "2                 15.0                  54.0   0.9970  3.26       0.65   \n",
              "3                 17.0                  60.0   0.9980  3.16       0.58   \n",
              "4                 11.0                  34.0   0.9978  3.51       0.56   \n",
              "\n",
              "   alcohol  quality  \n",
              "0      9.4        5  \n",
              "1      9.8        5  \n",
              "2      9.8        5  \n",
              "3      9.8        6  \n",
              "4      9.4        5  "
            ],
            "text/html": [
              "\n",
              "  <div id=\"df-311a717f-944c-4e6d-acd2-d107a7caa2a9\">\n",
              "    <div class=\"colab-df-container\">\n",
              "      <div>\n",
              "<style scoped>\n",
              "    .dataframe tbody tr th:only-of-type {\n",
              "        vertical-align: middle;\n",
              "    }\n",
              "\n",
              "    .dataframe tbody tr th {\n",
              "        vertical-align: top;\n",
              "    }\n",
              "\n",
              "    .dataframe thead th {\n",
              "        text-align: right;\n",
              "    }\n",
              "</style>\n",
              "<table border=\"1\" class=\"dataframe\">\n",
              "  <thead>\n",
              "    <tr style=\"text-align: right;\">\n",
              "      <th></th>\n",
              "      <th>fixed acidity</th>\n",
              "      <th>volatile acidity</th>\n",
              "      <th>citric acid</th>\n",
              "      <th>residual sugar</th>\n",
              "      <th>chlorides</th>\n",
              "      <th>free sulfur dioxide</th>\n",
              "      <th>total sulfur dioxide</th>\n",
              "      <th>density</th>\n",
              "      <th>pH</th>\n",
              "      <th>sulphates</th>\n",
              "      <th>alcohol</th>\n",
              "      <th>quality</th>\n",
              "    </tr>\n",
              "  </thead>\n",
              "  <tbody>\n",
              "    <tr>\n",
              "      <th>0</th>\n",
              "      <td>7.4</td>\n",
              "      <td>0.70</td>\n",
              "      <td>0.00</td>\n",
              "      <td>1.9</td>\n",
              "      <td>0.076</td>\n",
              "      <td>11.0</td>\n",
              "      <td>34.0</td>\n",
              "      <td>0.9978</td>\n",
              "      <td>3.51</td>\n",
              "      <td>0.56</td>\n",
              "      <td>9.4</td>\n",
              "      <td>5</td>\n",
              "    </tr>\n",
              "    <tr>\n",
              "      <th>1</th>\n",
              "      <td>7.8</td>\n",
              "      <td>0.88</td>\n",
              "      <td>0.00</td>\n",
              "      <td>2.6</td>\n",
              "      <td>0.098</td>\n",
              "      <td>25.0</td>\n",
              "      <td>67.0</td>\n",
              "      <td>0.9968</td>\n",
              "      <td>3.20</td>\n",
              "      <td>0.68</td>\n",
              "      <td>9.8</td>\n",
              "      <td>5</td>\n",
              "    </tr>\n",
              "    <tr>\n",
              "      <th>2</th>\n",
              "      <td>7.8</td>\n",
              "      <td>0.76</td>\n",
              "      <td>0.04</td>\n",
              "      <td>2.3</td>\n",
              "      <td>0.092</td>\n",
              "      <td>15.0</td>\n",
              "      <td>54.0</td>\n",
              "      <td>0.9970</td>\n",
              "      <td>3.26</td>\n",
              "      <td>0.65</td>\n",
              "      <td>9.8</td>\n",
              "      <td>5</td>\n",
              "    </tr>\n",
              "    <tr>\n",
              "      <th>3</th>\n",
              "      <td>11.2</td>\n",
              "      <td>0.28</td>\n",
              "      <td>0.56</td>\n",
              "      <td>1.9</td>\n",
              "      <td>0.075</td>\n",
              "      <td>17.0</td>\n",
              "      <td>60.0</td>\n",
              "      <td>0.9980</td>\n",
              "      <td>3.16</td>\n",
              "      <td>0.58</td>\n",
              "      <td>9.8</td>\n",
              "      <td>6</td>\n",
              "    </tr>\n",
              "    <tr>\n",
              "      <th>4</th>\n",
              "      <td>7.4</td>\n",
              "      <td>0.70</td>\n",
              "      <td>0.00</td>\n",
              "      <td>1.9</td>\n",
              "      <td>0.076</td>\n",
              "      <td>11.0</td>\n",
              "      <td>34.0</td>\n",
              "      <td>0.9978</td>\n",
              "      <td>3.51</td>\n",
              "      <td>0.56</td>\n",
              "      <td>9.4</td>\n",
              "      <td>5</td>\n",
              "    </tr>\n",
              "  </tbody>\n",
              "</table>\n",
              "</div>\n",
              "      <button class=\"colab-df-convert\" onclick=\"convertToInteractive('df-311a717f-944c-4e6d-acd2-d107a7caa2a9')\"\n",
              "              title=\"Convert this dataframe to an interactive table.\"\n",
              "              style=\"display:none;\">\n",
              "        \n",
              "  <svg xmlns=\"http://www.w3.org/2000/svg\" height=\"24px\"viewBox=\"0 0 24 24\"\n",
              "       width=\"24px\">\n",
              "    <path d=\"M0 0h24v24H0V0z\" fill=\"none\"/>\n",
              "    <path d=\"M18.56 5.44l.94 2.06.94-2.06 2.06-.94-2.06-.94-.94-2.06-.94 2.06-2.06.94zm-11 1L8.5 8.5l.94-2.06 2.06-.94-2.06-.94L8.5 2.5l-.94 2.06-2.06.94zm10 10l.94 2.06.94-2.06 2.06-.94-2.06-.94-.94-2.06-.94 2.06-2.06.94z\"/><path d=\"M17.41 7.96l-1.37-1.37c-.4-.4-.92-.59-1.43-.59-.52 0-1.04.2-1.43.59L10.3 9.45l-7.72 7.72c-.78.78-.78 2.05 0 2.83L4 21.41c.39.39.9.59 1.41.59.51 0 1.02-.2 1.41-.59l7.78-7.78 2.81-2.81c.8-.78.8-2.07 0-2.86zM5.41 20L4 18.59l7.72-7.72 1.47 1.35L5.41 20z\"/>\n",
              "  </svg>\n",
              "      </button>\n",
              "      \n",
              "  <style>\n",
              "    .colab-df-container {\n",
              "      display:flex;\n",
              "      flex-wrap:wrap;\n",
              "      gap: 12px;\n",
              "    }\n",
              "\n",
              "    .colab-df-convert {\n",
              "      background-color: #E8F0FE;\n",
              "      border: none;\n",
              "      border-radius: 50%;\n",
              "      cursor: pointer;\n",
              "      display: none;\n",
              "      fill: #1967D2;\n",
              "      height: 32px;\n",
              "      padding: 0 0 0 0;\n",
              "      width: 32px;\n",
              "    }\n",
              "\n",
              "    .colab-df-convert:hover {\n",
              "      background-color: #E2EBFA;\n",
              "      box-shadow: 0px 1px 2px rgba(60, 64, 67, 0.3), 0px 1px 3px 1px rgba(60, 64, 67, 0.15);\n",
              "      fill: #174EA6;\n",
              "    }\n",
              "\n",
              "    [theme=dark] .colab-df-convert {\n",
              "      background-color: #3B4455;\n",
              "      fill: #D2E3FC;\n",
              "    }\n",
              "\n",
              "    [theme=dark] .colab-df-convert:hover {\n",
              "      background-color: #434B5C;\n",
              "      box-shadow: 0px 1px 3px 1px rgba(0, 0, 0, 0.15);\n",
              "      filter: drop-shadow(0px 1px 2px rgba(0, 0, 0, 0.3));\n",
              "      fill: #FFFFFF;\n",
              "    }\n",
              "  </style>\n",
              "\n",
              "      <script>\n",
              "        const buttonEl =\n",
              "          document.querySelector('#df-311a717f-944c-4e6d-acd2-d107a7caa2a9 button.colab-df-convert');\n",
              "        buttonEl.style.display =\n",
              "          google.colab.kernel.accessAllowed ? 'block' : 'none';\n",
              "\n",
              "        async function convertToInteractive(key) {\n",
              "          const element = document.querySelector('#df-311a717f-944c-4e6d-acd2-d107a7caa2a9');\n",
              "          const dataTable =\n",
              "            await google.colab.kernel.invokeFunction('convertToInteractive',\n",
              "                                                     [key], {});\n",
              "          if (!dataTable) return;\n",
              "\n",
              "          const docLinkHtml = 'Like what you see? Visit the ' +\n",
              "            '<a target=\"_blank\" href=https://colab.research.google.com/notebooks/data_table.ipynb>data table notebook</a>'\n",
              "            + ' to learn more about interactive tables.';\n",
              "          element.innerHTML = '';\n",
              "          dataTable['output_type'] = 'display_data';\n",
              "          await google.colab.output.renderOutput(dataTable, element);\n",
              "          const docLink = document.createElement('div');\n",
              "          docLink.innerHTML = docLinkHtml;\n",
              "          element.appendChild(docLink);\n",
              "        }\n",
              "      </script>\n",
              "    </div>\n",
              "  </div>\n",
              "  "
            ]
          },
          "metadata": {},
          "execution_count": 3
        }
      ]
    },
    {
      "cell_type": "markdown",
      "source": [
        "**Shape of the data**"
      ],
      "metadata": {
        "id": "MDNjxtfZ2gug"
      }
    },
    {
      "cell_type": "code",
      "source": [
        "df.shape"
      ],
      "metadata": {
        "colab": {
          "base_uri": "https://localhost:8080/"
        },
        "id": "gD4iuCo0QkPe",
        "outputId": "ca8cebc2-c236-4ae0-95f5-a1a10bb9aa2a"
      },
      "execution_count": 4,
      "outputs": [
        {
          "output_type": "execute_result",
          "data": {
            "text/plain": [
              "(1599, 12)"
            ]
          },
          "metadata": {},
          "execution_count": 4
        }
      ]
    },
    {
      "cell_type": "markdown",
      "source": [
        "**Unique values in target variable**"
      ],
      "metadata": {
        "id": "mJFQlm-V2ipf"
      }
    },
    {
      "cell_type": "code",
      "source": [
        "df.quality.unique()"
      ],
      "metadata": {
        "colab": {
          "base_uri": "https://localhost:8080/"
        },
        "id": "p53xVZXkaxc6",
        "outputId": "203a5d0e-5189-4138-a1e6-ccb8441e8493"
      },
      "execution_count": 5,
      "outputs": [
        {
          "output_type": "execute_result",
          "data": {
            "text/plain": [
              "array([5, 6, 7, 4, 8, 3])"
            ]
          },
          "metadata": {},
          "execution_count": 5
        }
      ]
    },
    {
      "cell_type": "markdown",
      "source": [
        "**Number of values in each category**"
      ],
      "metadata": {
        "id": "JEwKwiOR2reh"
      }
    },
    {
      "cell_type": "code",
      "source": [
        "df['quality'].value_counts()"
      ],
      "metadata": {
        "colab": {
          "base_uri": "https://localhost:8080/"
        },
        "id": "57lM3-ana03h",
        "outputId": "bbecf145-d7c7-4679-98c9-4465ad94b632"
      },
      "execution_count": 6,
      "outputs": [
        {
          "output_type": "execute_result",
          "data": {
            "text/plain": [
              "5    681\n",
              "6    638\n",
              "7    199\n",
              "4     53\n",
              "8     18\n",
              "3     10\n",
              "Name: quality, dtype: int64"
            ]
          },
          "metadata": {},
          "execution_count": 6
        }
      ]
    },
    {
      "cell_type": "markdown",
      "source": [
        "**Observation**\n",
        "* **Highly imbalanced data. We have to perform sampling**"
      ],
      "metadata": {
        "id": "2-ZFU-OVUekg"
      }
    },
    {
      "cell_type": "code",
      "source": [
        "df.columns"
      ],
      "metadata": {
        "colab": {
          "base_uri": "https://localhost:8080/"
        },
        "id": "YZwqV1T-a2Jh",
        "outputId": "2dc03d5c-b6ff-4b2b-e7e0-a488326be690"
      },
      "execution_count": 7,
      "outputs": [
        {
          "output_type": "execute_result",
          "data": {
            "text/plain": [
              "Index(['fixed acidity', 'volatile acidity', 'citric acid', 'residual sugar',\n",
              "       'chlorides', 'free sulfur dioxide', 'total sulfur dioxide', 'density',\n",
              "       'pH', 'sulphates', 'alcohol', 'quality'],\n",
              "      dtype='object')"
            ]
          },
          "metadata": {},
          "execution_count": 7
        }
      ]
    },
    {
      "cell_type": "markdown",
      "source": [
        "**Information about the data**"
      ],
      "metadata": {
        "id": "cOI3Viog291a"
      }
    },
    {
      "cell_type": "code",
      "source": [
        "df.info()"
      ],
      "metadata": {
        "colab": {
          "base_uri": "https://localhost:8080/"
        },
        "id": "44NFV9Vfa5VT",
        "outputId": "8e571aad-5fcd-49e6-a483-085cac6e9bd8"
      },
      "execution_count": 8,
      "outputs": [
        {
          "output_type": "stream",
          "name": "stdout",
          "text": [
            "<class 'pandas.core.frame.DataFrame'>\n",
            "RangeIndex: 1599 entries, 0 to 1598\n",
            "Data columns (total 12 columns):\n",
            " #   Column                Non-Null Count  Dtype  \n",
            "---  ------                --------------  -----  \n",
            " 0   fixed acidity         1599 non-null   float64\n",
            " 1   volatile acidity      1599 non-null   float64\n",
            " 2   citric acid           1599 non-null   float64\n",
            " 3   residual sugar        1599 non-null   float64\n",
            " 4   chlorides             1599 non-null   float64\n",
            " 5   free sulfur dioxide   1599 non-null   float64\n",
            " 6   total sulfur dioxide  1599 non-null   float64\n",
            " 7   density               1599 non-null   float64\n",
            " 8   pH                    1599 non-null   float64\n",
            " 9   sulphates             1599 non-null   float64\n",
            " 10  alcohol               1599 non-null   float64\n",
            " 11  quality               1599 non-null   int64  \n",
            "dtypes: float64(11), int64(1)\n",
            "memory usage: 150.0 KB\n"
          ]
        }
      ]
    },
    {
      "cell_type": "markdown",
      "source": [
        "**Statistical Analysis**"
      ],
      "metadata": {
        "id": "VHJ_pZ9F3Bjd"
      }
    },
    {
      "cell_type": "code",
      "source": [
        "df.describe().T"
      ],
      "metadata": {
        "colab": {
          "base_uri": "https://localhost:8080/",
          "height": 426
        },
        "id": "1Sgc7Tjqa66R",
        "outputId": "fd8da00a-4f85-4f47-a674-87f200428dc4"
      },
      "execution_count": 9,
      "outputs": [
        {
          "output_type": "execute_result",
          "data": {
            "text/plain": [
              "                       count       mean        std      min      25%  \\\n",
              "fixed acidity         1599.0   8.319637   1.741096  4.60000   7.1000   \n",
              "volatile acidity      1599.0   0.527821   0.179060  0.12000   0.3900   \n",
              "citric acid           1599.0   0.270976   0.194801  0.00000   0.0900   \n",
              "residual sugar        1599.0   2.538806   1.409928  0.90000   1.9000   \n",
              "chlorides             1599.0   0.087467   0.047065  0.01200   0.0700   \n",
              "free sulfur dioxide   1599.0  15.874922  10.460157  1.00000   7.0000   \n",
              "total sulfur dioxide  1599.0  46.467792  32.895324  6.00000  22.0000   \n",
              "density               1599.0   0.996747   0.001887  0.99007   0.9956   \n",
              "pH                    1599.0   3.311113   0.154386  2.74000   3.2100   \n",
              "sulphates             1599.0   0.658149   0.169507  0.33000   0.5500   \n",
              "alcohol               1599.0  10.422983   1.065668  8.40000   9.5000   \n",
              "quality               1599.0   5.636023   0.807569  3.00000   5.0000   \n",
              "\n",
              "                           50%        75%        max  \n",
              "fixed acidity          7.90000   9.200000   15.90000  \n",
              "volatile acidity       0.52000   0.640000    1.58000  \n",
              "citric acid            0.26000   0.420000    1.00000  \n",
              "residual sugar         2.20000   2.600000   15.50000  \n",
              "chlorides              0.07900   0.090000    0.61100  \n",
              "free sulfur dioxide   14.00000  21.000000   72.00000  \n",
              "total sulfur dioxide  38.00000  62.000000  289.00000  \n",
              "density                0.99675   0.997835    1.00369  \n",
              "pH                     3.31000   3.400000    4.01000  \n",
              "sulphates              0.62000   0.730000    2.00000  \n",
              "alcohol               10.20000  11.100000   14.90000  \n",
              "quality                6.00000   6.000000    8.00000  "
            ],
            "text/html": [
              "\n",
              "  <div id=\"df-e4fbf1cc-bd3d-401b-8668-68fd6e59c65b\">\n",
              "    <div class=\"colab-df-container\">\n",
              "      <div>\n",
              "<style scoped>\n",
              "    .dataframe tbody tr th:only-of-type {\n",
              "        vertical-align: middle;\n",
              "    }\n",
              "\n",
              "    .dataframe tbody tr th {\n",
              "        vertical-align: top;\n",
              "    }\n",
              "\n",
              "    .dataframe thead th {\n",
              "        text-align: right;\n",
              "    }\n",
              "</style>\n",
              "<table border=\"1\" class=\"dataframe\">\n",
              "  <thead>\n",
              "    <tr style=\"text-align: right;\">\n",
              "      <th></th>\n",
              "      <th>count</th>\n",
              "      <th>mean</th>\n",
              "      <th>std</th>\n",
              "      <th>min</th>\n",
              "      <th>25%</th>\n",
              "      <th>50%</th>\n",
              "      <th>75%</th>\n",
              "      <th>max</th>\n",
              "    </tr>\n",
              "  </thead>\n",
              "  <tbody>\n",
              "    <tr>\n",
              "      <th>fixed acidity</th>\n",
              "      <td>1599.0</td>\n",
              "      <td>8.319637</td>\n",
              "      <td>1.741096</td>\n",
              "      <td>4.60000</td>\n",
              "      <td>7.1000</td>\n",
              "      <td>7.90000</td>\n",
              "      <td>9.200000</td>\n",
              "      <td>15.90000</td>\n",
              "    </tr>\n",
              "    <tr>\n",
              "      <th>volatile acidity</th>\n",
              "      <td>1599.0</td>\n",
              "      <td>0.527821</td>\n",
              "      <td>0.179060</td>\n",
              "      <td>0.12000</td>\n",
              "      <td>0.3900</td>\n",
              "      <td>0.52000</td>\n",
              "      <td>0.640000</td>\n",
              "      <td>1.58000</td>\n",
              "    </tr>\n",
              "    <tr>\n",
              "      <th>citric acid</th>\n",
              "      <td>1599.0</td>\n",
              "      <td>0.270976</td>\n",
              "      <td>0.194801</td>\n",
              "      <td>0.00000</td>\n",
              "      <td>0.0900</td>\n",
              "      <td>0.26000</td>\n",
              "      <td>0.420000</td>\n",
              "      <td>1.00000</td>\n",
              "    </tr>\n",
              "    <tr>\n",
              "      <th>residual sugar</th>\n",
              "      <td>1599.0</td>\n",
              "      <td>2.538806</td>\n",
              "      <td>1.409928</td>\n",
              "      <td>0.90000</td>\n",
              "      <td>1.9000</td>\n",
              "      <td>2.20000</td>\n",
              "      <td>2.600000</td>\n",
              "      <td>15.50000</td>\n",
              "    </tr>\n",
              "    <tr>\n",
              "      <th>chlorides</th>\n",
              "      <td>1599.0</td>\n",
              "      <td>0.087467</td>\n",
              "      <td>0.047065</td>\n",
              "      <td>0.01200</td>\n",
              "      <td>0.0700</td>\n",
              "      <td>0.07900</td>\n",
              "      <td>0.090000</td>\n",
              "      <td>0.61100</td>\n",
              "    </tr>\n",
              "    <tr>\n",
              "      <th>free sulfur dioxide</th>\n",
              "      <td>1599.0</td>\n",
              "      <td>15.874922</td>\n",
              "      <td>10.460157</td>\n",
              "      <td>1.00000</td>\n",
              "      <td>7.0000</td>\n",
              "      <td>14.00000</td>\n",
              "      <td>21.000000</td>\n",
              "      <td>72.00000</td>\n",
              "    </tr>\n",
              "    <tr>\n",
              "      <th>total sulfur dioxide</th>\n",
              "      <td>1599.0</td>\n",
              "      <td>46.467792</td>\n",
              "      <td>32.895324</td>\n",
              "      <td>6.00000</td>\n",
              "      <td>22.0000</td>\n",
              "      <td>38.00000</td>\n",
              "      <td>62.000000</td>\n",
              "      <td>289.00000</td>\n",
              "    </tr>\n",
              "    <tr>\n",
              "      <th>density</th>\n",
              "      <td>1599.0</td>\n",
              "      <td>0.996747</td>\n",
              "      <td>0.001887</td>\n",
              "      <td>0.99007</td>\n",
              "      <td>0.9956</td>\n",
              "      <td>0.99675</td>\n",
              "      <td>0.997835</td>\n",
              "      <td>1.00369</td>\n",
              "    </tr>\n",
              "    <tr>\n",
              "      <th>pH</th>\n",
              "      <td>1599.0</td>\n",
              "      <td>3.311113</td>\n",
              "      <td>0.154386</td>\n",
              "      <td>2.74000</td>\n",
              "      <td>3.2100</td>\n",
              "      <td>3.31000</td>\n",
              "      <td>3.400000</td>\n",
              "      <td>4.01000</td>\n",
              "    </tr>\n",
              "    <tr>\n",
              "      <th>sulphates</th>\n",
              "      <td>1599.0</td>\n",
              "      <td>0.658149</td>\n",
              "      <td>0.169507</td>\n",
              "      <td>0.33000</td>\n",
              "      <td>0.5500</td>\n",
              "      <td>0.62000</td>\n",
              "      <td>0.730000</td>\n",
              "      <td>2.00000</td>\n",
              "    </tr>\n",
              "    <tr>\n",
              "      <th>alcohol</th>\n",
              "      <td>1599.0</td>\n",
              "      <td>10.422983</td>\n",
              "      <td>1.065668</td>\n",
              "      <td>8.40000</td>\n",
              "      <td>9.5000</td>\n",
              "      <td>10.20000</td>\n",
              "      <td>11.100000</td>\n",
              "      <td>14.90000</td>\n",
              "    </tr>\n",
              "    <tr>\n",
              "      <th>quality</th>\n",
              "      <td>1599.0</td>\n",
              "      <td>5.636023</td>\n",
              "      <td>0.807569</td>\n",
              "      <td>3.00000</td>\n",
              "      <td>5.0000</td>\n",
              "      <td>6.00000</td>\n",
              "      <td>6.000000</td>\n",
              "      <td>8.00000</td>\n",
              "    </tr>\n",
              "  </tbody>\n",
              "</table>\n",
              "</div>\n",
              "      <button class=\"colab-df-convert\" onclick=\"convertToInteractive('df-e4fbf1cc-bd3d-401b-8668-68fd6e59c65b')\"\n",
              "              title=\"Convert this dataframe to an interactive table.\"\n",
              "              style=\"display:none;\">\n",
              "        \n",
              "  <svg xmlns=\"http://www.w3.org/2000/svg\" height=\"24px\"viewBox=\"0 0 24 24\"\n",
              "       width=\"24px\">\n",
              "    <path d=\"M0 0h24v24H0V0z\" fill=\"none\"/>\n",
              "    <path d=\"M18.56 5.44l.94 2.06.94-2.06 2.06-.94-2.06-.94-.94-2.06-.94 2.06-2.06.94zm-11 1L8.5 8.5l.94-2.06 2.06-.94-2.06-.94L8.5 2.5l-.94 2.06-2.06.94zm10 10l.94 2.06.94-2.06 2.06-.94-2.06-.94-.94-2.06-.94 2.06-2.06.94z\"/><path d=\"M17.41 7.96l-1.37-1.37c-.4-.4-.92-.59-1.43-.59-.52 0-1.04.2-1.43.59L10.3 9.45l-7.72 7.72c-.78.78-.78 2.05 0 2.83L4 21.41c.39.39.9.59 1.41.59.51 0 1.02-.2 1.41-.59l7.78-7.78 2.81-2.81c.8-.78.8-2.07 0-2.86zM5.41 20L4 18.59l7.72-7.72 1.47 1.35L5.41 20z\"/>\n",
              "  </svg>\n",
              "      </button>\n",
              "      \n",
              "  <style>\n",
              "    .colab-df-container {\n",
              "      display:flex;\n",
              "      flex-wrap:wrap;\n",
              "      gap: 12px;\n",
              "    }\n",
              "\n",
              "    .colab-df-convert {\n",
              "      background-color: #E8F0FE;\n",
              "      border: none;\n",
              "      border-radius: 50%;\n",
              "      cursor: pointer;\n",
              "      display: none;\n",
              "      fill: #1967D2;\n",
              "      height: 32px;\n",
              "      padding: 0 0 0 0;\n",
              "      width: 32px;\n",
              "    }\n",
              "\n",
              "    .colab-df-convert:hover {\n",
              "      background-color: #E2EBFA;\n",
              "      box-shadow: 0px 1px 2px rgba(60, 64, 67, 0.3), 0px 1px 3px 1px rgba(60, 64, 67, 0.15);\n",
              "      fill: #174EA6;\n",
              "    }\n",
              "\n",
              "    [theme=dark] .colab-df-convert {\n",
              "      background-color: #3B4455;\n",
              "      fill: #D2E3FC;\n",
              "    }\n",
              "\n",
              "    [theme=dark] .colab-df-convert:hover {\n",
              "      background-color: #434B5C;\n",
              "      box-shadow: 0px 1px 3px 1px rgba(0, 0, 0, 0.15);\n",
              "      filter: drop-shadow(0px 1px 2px rgba(0, 0, 0, 0.3));\n",
              "      fill: #FFFFFF;\n",
              "    }\n",
              "  </style>\n",
              "\n",
              "      <script>\n",
              "        const buttonEl =\n",
              "          document.querySelector('#df-e4fbf1cc-bd3d-401b-8668-68fd6e59c65b button.colab-df-convert');\n",
              "        buttonEl.style.display =\n",
              "          google.colab.kernel.accessAllowed ? 'block' : 'none';\n",
              "\n",
              "        async function convertToInteractive(key) {\n",
              "          const element = document.querySelector('#df-e4fbf1cc-bd3d-401b-8668-68fd6e59c65b');\n",
              "          const dataTable =\n",
              "            await google.colab.kernel.invokeFunction('convertToInteractive',\n",
              "                                                     [key], {});\n",
              "          if (!dataTable) return;\n",
              "\n",
              "          const docLinkHtml = 'Like what you see? Visit the ' +\n",
              "            '<a target=\"_blank\" href=https://colab.research.google.com/notebooks/data_table.ipynb>data table notebook</a>'\n",
              "            + ' to learn more about interactive tables.';\n",
              "          element.innerHTML = '';\n",
              "          dataTable['output_type'] = 'display_data';\n",
              "          await google.colab.output.renderOutput(dataTable, element);\n",
              "          const docLink = document.createElement('div');\n",
              "          docLink.innerHTML = docLinkHtml;\n",
              "          element.appendChild(docLink);\n",
              "        }\n",
              "      </script>\n",
              "    </div>\n",
              "  </div>\n",
              "  "
            ]
          },
          "metadata": {},
          "execution_count": 9
        }
      ]
    },
    {
      "cell_type": "markdown",
      "source": [
        "**Check null values in the dataset**"
      ],
      "metadata": {
        "id": "NGgwNr1l3E74"
      }
    },
    {
      "cell_type": "code",
      "source": [
        "df.isnull().sum()"
      ],
      "metadata": {
        "colab": {
          "base_uri": "https://localhost:8080/"
        },
        "id": "ligoDUYpc8wl",
        "outputId": "1d30bc8c-3f6f-4c6a-bfae-a9164b550a72"
      },
      "execution_count": 10,
      "outputs": [
        {
          "output_type": "execute_result",
          "data": {
            "text/plain": [
              "fixed acidity           0\n",
              "volatile acidity        0\n",
              "citric acid             0\n",
              "residual sugar          0\n",
              "chlorides               0\n",
              "free sulfur dioxide     0\n",
              "total sulfur dioxide    0\n",
              "density                 0\n",
              "pH                      0\n",
              "sulphates               0\n",
              "alcohol                 0\n",
              "quality                 0\n",
              "dtype: int64"
            ]
          },
          "metadata": {},
          "execution_count": 10
        }
      ]
    },
    {
      "cell_type": "markdown",
      "source": [
        "## **Outliers (Optional) - Don't Use for this dataset**\n",
        "* I have not used this because due to this our model accuracy was getting affected. I have kept as it is so that it can help me in future. AFter trying different method I try to use sampling technique only\n",
        "*  I will suggest people to use these methods so that anyonce can understand what happens if we remove outliers and if we not"
      ],
      "metadata": {
        "id": "faodzDKxdIyi"
      }
    },
    {
      "cell_type": "markdown",
      "source": [
        "### **Outliers Treatment for all the features at once(Optional)**"
      ],
      "metadata": {
        "id": "CTZHUKPnJlLp"
      }
    },
    {
      "cell_type": "code",
      "source": [
        "# plt.figure(figsize=(20, 8))\n",
        "# sns.boxplot(data = df)\n",
        "# plt.title(\"Boxplot of all the feature\")"
      ],
      "metadata": {
        "id": "09PVpQNVHHX1"
      },
      "execution_count": 11,
      "outputs": []
    },
    {
      "cell_type": "code",
      "source": [
        "# df.columns"
      ],
      "metadata": {
        "id": "poakku3Hoh9v"
      },
      "execution_count": 12,
      "outputs": []
    },
    {
      "cell_type": "code",
      "source": [
        "# def find_boundaries(df, variable, distance):\n",
        "#  IQR = df[variable].quantile(0.75) - df[variable].quantile(0.25)\n",
        "#  lower_boundary = df[variable].quantile(0.25) - (IQR*distance)\n",
        "#  upper_boundary = df[variable].quantile(0.75) + (IQR*distance)\n",
        "#  return upper_boundary, lower_boundary"
      ],
      "metadata": {
        "id": "GKCq4ssNH9dT"
      },
      "execution_count": 13,
      "outputs": []
    },
    {
      "cell_type": "code",
      "source": [
        "# outliers_columns = ['fixed acidity', 'volatile acidity', 'citric acid', 'residual sugar',\n",
        "#        'chlorides', 'free sulfur dioxide', 'total sulfur dioxide', 'density',\n",
        "#        'pH', 'sulphates', 'alcohol', 'quality']\n",
        "# for i in outliers_columns:\n",
        "#   upper_boundary, lower_boundary = find_boundaries(df,i, 1.5)\n",
        "#   outliers = np.where(df[i] > upper_boundary, True, np.where(df[i] < lower_boundary, True, False))\n",
        "#   outliers_df = df.loc[outliers, i]\n",
        "#   df_trimed= df.loc[~outliers, i]\n",
        "#   df[i] = df_trimed"
      ],
      "metadata": {
        "id": "i1QFR0q4nkA9"
      },
      "execution_count": 14,
      "outputs": []
    },
    {
      "cell_type": "code",
      "source": [
        "# plt.figure(figsize=(15, 8))\n",
        "# sns.boxplot(data = df)\n",
        "# plt.title(\"After Removing Outliers\")"
      ],
      "metadata": {
        "id": "fHwrCy8YoU7c"
      },
      "execution_count": 15,
      "outputs": []
    },
    {
      "cell_type": "code",
      "source": [
        "# df.isnull().sum()"
      ],
      "metadata": {
        "id": "8lpJbyO3oSKv"
      },
      "execution_count": 16,
      "outputs": []
    },
    {
      "cell_type": "code",
      "source": [
        "# df_copy = df"
      ],
      "metadata": {
        "id": "vWu75cVZoXNx"
      },
      "execution_count": 17,
      "outputs": []
    },
    {
      "cell_type": "code",
      "source": [
        "# df.fillna(df_copy.mean().round(1), inplace=True)"
      ],
      "metadata": {
        "id": "j_PAhOBZobOZ"
      },
      "execution_count": 18,
      "outputs": []
    },
    {
      "cell_type": "code",
      "source": [
        "# df.isnull().sum()"
      ],
      "metadata": {
        "id": "NVvxb1COoc_m"
      },
      "execution_count": 19,
      "outputs": []
    },
    {
      "cell_type": "markdown",
      "source": [
        "### **Individual Features Outliers Treatment based on observation (Optional)**\n"
      ],
      "metadata": {
        "id": "v9rgoH0_nlg8"
      }
    },
    {
      "cell_type": "markdown",
      "source": [
        "**fixed acidity**"
      ],
      "metadata": {
        "id": "Kqg8wz4ygVa_"
      }
    },
    {
      "cell_type": "code",
      "source": [
        "# plt.figure(figsize=(20, 8))\n",
        "# sns.boxplot(df=df['fixed acidity'])\n",
        "# plt.title(\"Before Removing Outliers\")"
      ],
      "metadata": {
        "id": "smwmxc1JdMbm"
      },
      "execution_count": 20,
      "outputs": []
    },
    {
      "cell_type": "code",
      "source": [
        "# outliers = df[df['fixed acidity'] >=12]['fixed acidity']\n",
        "# df['fixed acidity'] = df[df['fixed acidity'] < 12]['fixed acidity']"
      ],
      "metadata": {
        "id": "d47eWC5UfnOn"
      },
      "execution_count": 21,
      "outputs": []
    },
    {
      "cell_type": "code",
      "source": [
        "# df['fixed acidity'].fillna(df['fixed acidity'].mean().round(1), inplace=True)"
      ],
      "metadata": {
        "id": "UiHoiWEmgKtA"
      },
      "execution_count": 22,
      "outputs": []
    },
    {
      "cell_type": "code",
      "source": [
        "# plt.figure(figsize=(10, 8))\n",
        "# sns.boxplot(df=df['fixed acidity'])\n",
        "# plt.title(\"Before Removing Outliers\")"
      ],
      "metadata": {
        "id": "3jQLS1fbf9P8"
      },
      "execution_count": 23,
      "outputs": []
    },
    {
      "cell_type": "markdown",
      "source": [
        "**volatile acidity**"
      ],
      "metadata": {
        "id": "GRdjhC4rE8d9"
      }
    },
    {
      "cell_type": "code",
      "source": [
        "# plt.figure(figsize=(10, 8))\n",
        "# sns.boxplot(df=df['volatile acidity'])\n",
        "# plt.title(\"Before Removing Outliers\")"
      ],
      "metadata": {
        "id": "1Shpf-6qFIda"
      },
      "execution_count": 24,
      "outputs": []
    },
    {
      "cell_type": "code",
      "source": [
        "# outliers = df[df['volatile acidity'] >=1]['volatile acidity']\n",
        "# df['volatile acidity'] = df[df['volatile acidity'] < 1]['volatile acidity']"
      ],
      "metadata": {
        "id": "cX4ZaCRqFIdb"
      },
      "execution_count": 25,
      "outputs": []
    },
    {
      "cell_type": "code",
      "source": [
        "# df['volatile acidity'].fillna(df['volatile acidity'].mean().round(1), inplace=True)"
      ],
      "metadata": {
        "id": "RUl0BWeAFIdb"
      },
      "execution_count": 26,
      "outputs": []
    },
    {
      "cell_type": "code",
      "source": [
        "# plt.figure(figsize=(10, 8))\n",
        "# sns.boxplot(df=df['volatile acidity'])\n",
        "# plt.title(\"After Removing Outliers\")"
      ],
      "metadata": {
        "id": "2FpNO_2_FIdb"
      },
      "execution_count": 27,
      "outputs": []
    },
    {
      "cell_type": "markdown",
      "source": [
        "**citric acid**"
      ],
      "metadata": {
        "id": "g4pLNud0GhPr"
      }
    },
    {
      "cell_type": "code",
      "source": [
        "# plt.figure(figsize=(10, 8))\n",
        "# sns.boxplot(df=df['citric acid'])\n",
        "# plt.title(\"Before Removing Outliers\")"
      ],
      "metadata": {
        "id": "EU4LrJzoG1VW"
      },
      "execution_count": 28,
      "outputs": []
    },
    {
      "cell_type": "markdown",
      "source": [
        "**residual sugar**"
      ],
      "metadata": {
        "id": "FSPbqKJSHpI7"
      }
    },
    {
      "cell_type": "code",
      "source": [
        "# plt.figure(figsize=(10, 8))\n",
        "# sns.boxplot(df=df['residual sugar'])\n",
        "# plt.title(\"Before Removing Outliers\")"
      ],
      "metadata": {
        "id": "0bBnElYaHkgp"
      },
      "execution_count": 29,
      "outputs": []
    },
    {
      "cell_type": "code",
      "source": [
        "# upper_boundary, lower_boundary = find_boundaries(df,'residual sugar', 1.1)\n",
        "# outliers = np.where(df['residual sugar'] > upper_boundary, True, np.where(df['residual sugar'] < lower_boundary, True, False))\n",
        "# outliers_df = df.loc[outliers, 'residual sugar']\n",
        "# df_trimed= df.loc[~outliers, 'residual sugar']\n",
        "# df['residual sugar'] = df_trimed"
      ],
      "metadata": {
        "id": "xlpNvmFjE7Qr"
      },
      "execution_count": 30,
      "outputs": []
    },
    {
      "cell_type": "code",
      "source": [
        "# upper_boundary, lower_boundary "
      ],
      "metadata": {
        "id": "tuOhSVmFKOvR"
      },
      "execution_count": 31,
      "outputs": []
    },
    {
      "cell_type": "code",
      "source": [
        "# plt.figure(figsize=(10, 8))\n",
        "# sns.boxplot(df=df['residual sugar'])\n",
        "# plt.title(\"Before Removing Outliers\")"
      ],
      "metadata": {
        "id": "zjRjLArsIAz7"
      },
      "execution_count": 32,
      "outputs": []
    },
    {
      "cell_type": "markdown",
      "source": [
        "**chlorides**"
      ],
      "metadata": {
        "id": "y79J_JRzJcF9"
      }
    },
    {
      "cell_type": "code",
      "source": [
        "# plt.figure(figsize=(10, 8))\n",
        "# sns.boxplot(df=df['chlorides'])\n",
        "# plt.title(\"Before Removing Outliers\")"
      ],
      "metadata": {
        "id": "UH4SItv_Jgsd"
      },
      "execution_count": 33,
      "outputs": []
    },
    {
      "cell_type": "code",
      "source": [
        "# upper_boundary, lower_boundary = find_boundaries(df,'chlorides', 1.2)\n",
        "# outliers = np.where(df['chlorides'] > upper_boundary, True, np.where(df['chlorides'] < lower_boundary, True, False))\n",
        "# outliers_df = df.loc[outliers, 'chlorides']\n",
        "# df_trimed= df.loc[~outliers, 'chlorides']\n",
        "# df['chlorides'] = df_trimed"
      ],
      "metadata": {
        "id": "gYvg3c3sJgse"
      },
      "execution_count": 34,
      "outputs": []
    },
    {
      "cell_type": "code",
      "source": [
        "# upper_boundary, lower_boundary"
      ],
      "metadata": {
        "id": "hnm8rmyMLBvP"
      },
      "execution_count": 35,
      "outputs": []
    },
    {
      "cell_type": "code",
      "source": [
        "# plt.figure(figsize=(10, 8))\n",
        "# sns.boxplot(df=df['chlorides'])\n",
        "# plt.title(\"Before Removing Outliers\")"
      ],
      "metadata": {
        "id": "vPOetMvQJgse"
      },
      "execution_count": 36,
      "outputs": []
    },
    {
      "cell_type": "markdown",
      "source": [
        "**free sulfur dioxide**"
      ],
      "metadata": {
        "id": "TwwDB7XWMN5c"
      }
    },
    {
      "cell_type": "code",
      "source": [
        "# plt.figure(figsize=(10, 8))\n",
        "# sns.boxplot(df=df['free sulfur dioxide'])\n",
        "# plt.title(\"Before Removing Outliers\")"
      ],
      "metadata": {
        "id": "n1u9sF-dMVva"
      },
      "execution_count": 37,
      "outputs": []
    },
    {
      "cell_type": "code",
      "source": [
        "# upper_boundary, lower_boundary = find_boundaries(df,'free sulfur dioxide', 1.5)\n",
        "# outliers = np.where(df['free sulfur dioxide'] > upper_boundary, True, np.where(df['free sulfur dioxide'] < lower_boundary, True, False))\n",
        "# outliers_df = df.loc[outliers, 'free sulfur dioxide']\n",
        "# df_trimed= df.loc[~outliers, 'free sulfur dioxide']\n",
        "# df['free sulfur dioxide'] = df_trimed"
      ],
      "metadata": {
        "id": "1_vF1fQEMVvb"
      },
      "execution_count": 38,
      "outputs": []
    },
    {
      "cell_type": "code",
      "source": [
        "# upper_boundary, lower_boundary"
      ],
      "metadata": {
        "id": "eA3S73SLMVvb"
      },
      "execution_count": 39,
      "outputs": []
    },
    {
      "cell_type": "code",
      "source": [
        "# plt.figure(figsize=(10, 8))\n",
        "# sns.boxplot(df=df['free sulfur dioxide'])\n",
        "# plt.title(\"Before Removing Outliers\")"
      ],
      "metadata": {
        "id": "Yh_VFyDnMVvb"
      },
      "execution_count": 40,
      "outputs": []
    },
    {
      "cell_type": "markdown",
      "source": [
        "**total sulfur dioxide**"
      ],
      "metadata": {
        "id": "eI05oAZ7MldV"
      }
    },
    {
      "cell_type": "code",
      "source": [
        "# plt.figure(figsize=(10, 8))\n",
        "# sns.boxplot(df=df['total sulfur dioxide'])\n",
        "# plt.title(\"Before Removing Outliers\")"
      ],
      "metadata": {
        "id": "5DgFYDCXM4tF"
      },
      "execution_count": 41,
      "outputs": []
    },
    {
      "cell_type": "code",
      "source": [
        "# upper_boundary, lower_boundary = find_boundaries(df,'total sulfur dioxide', 1.3)\n",
        "# outliers = np.where(df['total sulfur dioxide'] > upper_boundary, True, np.where(df['total sulfur dioxide'] < lower_boundary, True, False))\n",
        "# outliers_df = df.loc[outliers, 'total sulfur dioxide']\n",
        "# df_trimed= df.loc[~outliers, 'total sulfur dioxide']\n",
        "# df['total sulfur dioxide'] = df_trimed"
      ],
      "metadata": {
        "id": "7dRp4oXAM4tF"
      },
      "execution_count": 42,
      "outputs": []
    },
    {
      "cell_type": "code",
      "source": [
        "# upper_boundary, lower_boundary "
      ],
      "metadata": {
        "id": "Nx1Nf7VLM4tF"
      },
      "execution_count": 43,
      "outputs": []
    },
    {
      "cell_type": "code",
      "source": [
        "# plt.figure(figsize=(10, 8))\n",
        "# sns.boxplot(df=df['total sulfur dioxide'])\n",
        "# plt.title(\"Before Removing Outliers\")"
      ],
      "metadata": {
        "id": "57NSe3qaM4tF"
      },
      "execution_count": 44,
      "outputs": []
    },
    {
      "cell_type": "markdown",
      "source": [
        "**density**"
      ],
      "metadata": {
        "id": "zE0-VwPlNJyS"
      }
    },
    {
      "cell_type": "code",
      "source": [
        "# plt.figure(figsize=(10, 8))\n",
        "# sns.boxplot(df=df['density'])\n",
        "# plt.title(\"Before Removing Outliers\")"
      ],
      "metadata": {
        "id": "G79zWi6yNVIo"
      },
      "execution_count": 45,
      "outputs": []
    },
    {
      "cell_type": "code",
      "source": [
        "# upper_boundary, lower_boundary = find_boundaries(df,'density', 1.5)\n",
        "# outliers = np.where(df['density'] > upper_boundary, True, np.where(df['density'] < lower_boundary, True, False))\n",
        "# outliers_df = df.loc[outliers, 'density']\n",
        "# df_trimed= df.loc[~outliers, 'density']\n",
        "# df['density'] = df_trimed"
      ],
      "metadata": {
        "id": "j8gugYx1NVIo"
      },
      "execution_count": 46,
      "outputs": []
    },
    {
      "cell_type": "code",
      "source": [
        "# upper_boundary, lower_boundary"
      ],
      "metadata": {
        "id": "Lbe5-wELNVIp"
      },
      "execution_count": 47,
      "outputs": []
    },
    {
      "cell_type": "code",
      "source": [
        "# plt.figure(figsize=(10, 8))\n",
        "# sns.boxplot(df=df['density'])\n",
        "# plt.title(\"Before Removing Outliers\")"
      ],
      "metadata": {
        "id": "xXjtYPq0NVIp"
      },
      "execution_count": 48,
      "outputs": []
    },
    {
      "cell_type": "markdown",
      "source": [
        "**pH**"
      ],
      "metadata": {
        "id": "xhDKDpZZNg17"
      }
    },
    {
      "cell_type": "code",
      "source": [
        "# plt.figure(figsize=(10, 8))\n",
        "# sns.boxplot(df=df['pH'])\n",
        "# plt.title(\"Before Removing Outliers\")"
      ],
      "metadata": {
        "id": "JX3_srFNNt5u"
      },
      "execution_count": 49,
      "outputs": []
    },
    {
      "cell_type": "code",
      "source": [
        "# upper_boundary, lower_boundary = find_boundaries(df,'pH', 1.5)\n",
        "# outliers = np.where(df['pH'] > upper_boundary, True, np.where(df['pH'] < lower_boundary, True, False))\n",
        "# outliers_df = df.loc[outliers, 'pH']\n",
        "# df_trimed= df.loc[~outliers, 'pH']\n",
        "# df['pH'] = df_trimed"
      ],
      "metadata": {
        "id": "KUYiXd4aNt5v"
      },
      "execution_count": 50,
      "outputs": []
    },
    {
      "cell_type": "code",
      "source": [
        "# upper_boundary, lower_boundary"
      ],
      "metadata": {
        "id": "4QHSNjqoNt5v"
      },
      "execution_count": 51,
      "outputs": []
    },
    {
      "cell_type": "code",
      "source": [
        "# plt.figure(figsize=(10, 8))\n",
        "# sns.boxplot(df=df['pH'])\n",
        "# plt.title(\"Before Removing Outliers\")"
      ],
      "metadata": {
        "id": "gqdHiVwGNt5v"
      },
      "execution_count": 52,
      "outputs": []
    },
    {
      "cell_type": "markdown",
      "source": [
        "**sulphates**"
      ],
      "metadata": {
        "id": "HQ0RM6R_N6du"
      }
    },
    {
      "cell_type": "code",
      "source": [
        "# plt.figure(figsize=(10, 8))\n",
        "# sns.boxplot(df=df['sulphates'])\n",
        "# plt.title(\"Before Removing Outliers\")"
      ],
      "metadata": {
        "id": "vKVIoltXOK2T"
      },
      "execution_count": 53,
      "outputs": []
    },
    {
      "cell_type": "code",
      "source": [
        "# upper_boundary, lower_boundary = find_boundaries(df,'sulphates', 1.4)\n",
        "# outliers = np.where(df['sulphates'] > upper_boundary, True, np.where(df['sulphates'] < lower_boundary, True, False))\n",
        "# outliers_df = df.loc[outliers, 'sulphates']\n",
        "# df_trimed= df.loc[~outliers, 'sulphates']\n",
        "# df['sulphates'] = df_trimed"
      ],
      "metadata": {
        "id": "sLe7EZfOOK2U"
      },
      "execution_count": 54,
      "outputs": []
    },
    {
      "cell_type": "code",
      "source": [
        "# upper_boundary, lower_boundary"
      ],
      "metadata": {
        "id": "BZiZQPYjOK2U"
      },
      "execution_count": 55,
      "outputs": []
    },
    {
      "cell_type": "code",
      "source": [
        "# plt.figure(figsize=(10, 8))\n",
        "# sns.boxplot(df=df['sulphates'])\n",
        "# plt.title(\"Before Removing Outliers\")"
      ],
      "metadata": {
        "id": "MneP2GlaOK2U"
      },
      "execution_count": 56,
      "outputs": []
    },
    {
      "cell_type": "markdown",
      "source": [
        "**alcohol**"
      ],
      "metadata": {
        "id": "AOQydNMtN8Pw"
      }
    },
    {
      "cell_type": "code",
      "source": [
        "# plt.figure(figsize=(10, 8))\n",
        "# sns.boxplot(df=df['alcohol'])\n",
        "# plt.title(\"Before Removing Outliers\")"
      ],
      "metadata": {
        "id": "CzUPB9qBOLg_"
      },
      "execution_count": 57,
      "outputs": []
    },
    {
      "cell_type": "code",
      "source": [
        "# upper_boundary, lower_boundary = find_boundaries(df,'alcohol', 1.35)\n",
        "# outliers = np.where(df['alcohol'] > upper_boundary, True, np.where(df['alcohol'] < lower_boundary, True, False))\n",
        "# outliers_df = df.loc[outliers, 'alcohol']\n",
        "# df_trimed= df.loc[~outliers, 'alcohol']\n",
        "# df['alcohol'] = df_trimed"
      ],
      "metadata": {
        "id": "9GEJgHgNOLg_"
      },
      "execution_count": 58,
      "outputs": []
    },
    {
      "cell_type": "code",
      "source": [
        "# upper_boundary, lower_boundary"
      ],
      "metadata": {
        "id": "l_z9-YdlOLg_"
      },
      "execution_count": 59,
      "outputs": []
    },
    {
      "cell_type": "code",
      "source": [
        "# plt.figure(figsize=(10, 8))\n",
        "# sns.boxplot(df=df['alcohol'])\n",
        "# plt.title(\"Before Removing Outliers\")"
      ],
      "metadata": {
        "id": "8kICKox_OLhA"
      },
      "execution_count": 60,
      "outputs": []
    },
    {
      "cell_type": "markdown",
      "source": [
        "**quality**"
      ],
      "metadata": {
        "id": "_6K0R_CUN8Zo"
      }
    },
    {
      "cell_type": "code",
      "source": [
        "# plt.figure(figsize=(10, 8))\n",
        "# sns.boxplot(df=df['quality'])\n",
        "# plt.title(\"Before Removing Outliers\")"
      ],
      "metadata": {
        "id": "8JMLeezBOMHk"
      },
      "execution_count": 61,
      "outputs": []
    },
    {
      "cell_type": "code",
      "source": [
        "# upper_boundary, lower_boundary = find_boundaries(df,'quality', 1.5)\n",
        "# outliers = np.where(df['quality'] > upper_boundary, True, np.where(df['quality'] < lower_boundary, True, False))\n",
        "# outliers_df = df.loc[outliers, 'quality']\n",
        "# df_trimed= df.loc[~outliers, 'quality']\n",
        "# df['quality'] = df_trimed"
      ],
      "metadata": {
        "id": "iAjLjQ6cOMHk"
      },
      "execution_count": 62,
      "outputs": []
    },
    {
      "cell_type": "code",
      "source": [
        "# upper_boundary, lower_boundary"
      ],
      "metadata": {
        "id": "7sxnQoNrOMHk"
      },
      "execution_count": 63,
      "outputs": []
    },
    {
      "cell_type": "code",
      "source": [
        "# plt.figure(figsize=(10, 8))\n",
        "# sns.boxplot(df=df['quality'])\n",
        "# plt.title(\"Before Removing Outliers\")"
      ],
      "metadata": {
        "id": "KpcDAcgaOMHl"
      },
      "execution_count": 64,
      "outputs": []
    },
    {
      "cell_type": "code",
      "source": [
        "# df.isnull().sum()"
      ],
      "metadata": {
        "id": "rCmOkqjwNP1R"
      },
      "execution_count": 65,
      "outputs": []
    },
    {
      "cell_type": "code",
      "source": [
        "# df.fillna(df.mean().round(1), inplace=True)"
      ],
      "metadata": {
        "id": "MVnF9rEPQ09r"
      },
      "execution_count": 66,
      "outputs": []
    },
    {
      "cell_type": "code",
      "source": [
        "# df.isnull().sum()"
      ],
      "metadata": {
        "id": "iee5YKWUQ5YR"
      },
      "execution_count": 67,
      "outputs": []
    },
    {
      "cell_type": "markdown",
      "source": [
        "# **Graphical Analysis**"
      ],
      "metadata": {
        "id": "CT90cI-4Zr2e"
      }
    },
    {
      "cell_type": "code",
      "source": [
        "df.columns"
      ],
      "metadata": {
        "colab": {
          "base_uri": "https://localhost:8080/"
        },
        "id": "NtHo1bW9dslN",
        "outputId": "503315d1-ad64-471d-9df9-df353b2d0343"
      },
      "execution_count": 68,
      "outputs": [
        {
          "output_type": "execute_result",
          "data": {
            "text/plain": [
              "Index(['fixed acidity', 'volatile acidity', 'citric acid', 'residual sugar',\n",
              "       'chlorides', 'free sulfur dioxide', 'total sulfur dioxide', 'density',\n",
              "       'pH', 'sulphates', 'alcohol', 'quality'],\n",
              "      dtype='object')"
            ]
          },
          "metadata": {},
          "execution_count": 68
        }
      ]
    },
    {
      "cell_type": "code",
      "source": [
        "df['quality'] = df['quality'].astype('int')"
      ],
      "metadata": {
        "id": "js7HWpOne8yD"
      },
      "execution_count": 69,
      "outputs": []
    },
    {
      "cell_type": "markdown",
      "source": [
        "**Boxplot**\n",
        "* To check outliers"
      ],
      "metadata": {
        "id": "pvWmzLF1Kfk3"
      }
    },
    {
      "cell_type": "code",
      "source": [
        "fig, ax = plt.subplots(ncols=6, nrows=2, figsize=(20,10))\n",
        "index = 0\n",
        "ax = ax.flatten()\n",
        "for col, value in df.items():\n",
        "  sns.boxplot(y = col, data = df, ax=ax[index])\n",
        "  index += 1\n",
        "plt.tight_layout(pad=0.5, w_pad=0.7, h_pad=5.0)"
      ],
      "metadata": {
        "colab": {
          "base_uri": "https://localhost:8080/",
          "height": 640
        },
        "id": "i8jTymivKe3T",
        "outputId": "a380ec9c-e991-405d-be41-635c41c1724a"
      },
      "execution_count": 70,
      "outputs": [
        {
          "output_type": "display_data",
          "data": {
            "text/plain": [
              "<Figure size 1440x720 with 12 Axes>"
            ],
            "image/png": "[encoded data removed]"
          },
          "metadata": {
            "needs_background": "light"
          }
        }
      ]
    },
    {
      "cell_type": "markdown",
      "source": [
        "**Histplot**\n",
        "* To check Normal Distribution"
      ],
      "metadata": {
        "id": "SI-KMlNbaHzg"
      }
    },
    {
      "cell_type": "code",
      "source": [
        "fig, ax = plt.subplots(ncols=4, nrows=3, figsize=(20,10))\n",
        "index = 0\n",
        "ax = ax.flatten()\n",
        "for col, value in df.items():\n",
        "  sns.histplot(value, ax=ax[index], kde=True, bins=30)\n",
        "  index += 1\n",
        "plt.tight_layout(pad=0.5, w_pad=0.7, h_pad=5.0)"
      ],
      "metadata": {
        "colab": {
          "base_uri": "https://localhost:8080/",
          "height": 642
        },
        "id": "IniYgSoZIwHQ",
        "outputId": "893a3fb4-c4e0-4882-816d-da3399e7502d"
      },
      "execution_count": 71,
      "outputs": [
        {
          "output_type": "display_data",
          "data": {
            "text/plain": [
              "<Figure size 1440x720 with 12 Axes>"
            ],
            "image/png": "[encoded data removed]"
          },
          "metadata": {
            "needs_background": "light"
          }
        }
      ]
    },
    {
      "cell_type": "markdown",
      "source": [
        "**Observation:**\n",
        "* Right Skewed Distribution\n",
        "  * citric acid\n",
        "  * free sulfur dioxide\n",
        "  * total sulfur dioxide\n",
        "  * alcohol"
      ],
      "metadata": {
        "id": "AxhdKkIEaR8X"
      }
    },
    {
      "cell_type": "markdown",
      "source": [
        "### **Transformation (Optional)**\n",
        "* Like I menyioned above , I have tried different approach but I didn't remove anythngs from the code. It will me in understaing the problem very well. Every dataset requires different approach"
      ],
      "metadata": {
        "id": "7mPdCFuTk9K8"
      }
    },
    {
      "cell_type": "markdown",
      "source": [
        "**citric acid**"
      ],
      "metadata": {
        "id": "1Cc_8EyJckhq"
      }
    },
    {
      "cell_type": "code",
      "source": [
        "# df['citric acid'] = np.sqrt(df['citric acid'])\n",
        "# df['citric acid'].head()"
      ],
      "metadata": {
        "id": "_iUZD7QebBKa"
      },
      "execution_count": 72,
      "outputs": []
    },
    {
      "cell_type": "code",
      "source": [
        "# plt.figure(figsize=(12,8))\n",
        "# sns.histplot(data = df, x='citric acid',kde=True, bins=30, color='blue')\n",
        "# plt.show()"
      ],
      "metadata": {
        "id": "P1ox-uQvbN9a"
      },
      "execution_count": 73,
      "outputs": []
    },
    {
      "cell_type": "markdown",
      "source": [
        "**free sulfur dioxide**"
      ],
      "metadata": {
        "id": "qTkr_CtLcoMr"
      }
    },
    {
      "cell_type": "code",
      "source": [
        "# df['free sulfur dioxide'] = np.sqrt(df['free sulfur dioxide'])\n",
        "# df['free sulfur dioxide'].head()"
      ],
      "metadata": {
        "id": "EzdFOGQnbrY-"
      },
      "execution_count": 74,
      "outputs": []
    },
    {
      "cell_type": "code",
      "source": [
        "# plt.figure(figsize=(12,8))\n",
        "# sns.histplot(data = df, x='free sulfur dioxide',kde=True, bins=30, color='blue')\n",
        "# plt.show();"
      ],
      "metadata": {
        "id": "eVgmfVn7brY-"
      },
      "execution_count": 75,
      "outputs": []
    },
    {
      "cell_type": "markdown",
      "source": [
        "**total sulfur dioxide**"
      ],
      "metadata": {
        "id": "YZybsKYRct4Q"
      }
    },
    {
      "cell_type": "code",
      "source": [
        "# df['total sulfur dioxide'] = np.sqrt(df['total sulfur dioxide'])\n",
        "# df['total sulfur dioxide'].head()"
      ],
      "metadata": {
        "id": "MO4qV-aab5AF"
      },
      "execution_count": 76,
      "outputs": []
    },
    {
      "cell_type": "code",
      "source": [
        "# plt.figure(figsize=(12,8))\n",
        "# sns.histplot(data = df, x='total sulfur dioxide',kde=True, bins=30, color='blue')\n",
        "# plt.show()"
      ],
      "metadata": {
        "id": "_9FoRhZ-b5AG"
      },
      "execution_count": 77,
      "outputs": []
    },
    {
      "cell_type": "markdown",
      "source": [
        "**alcohol**"
      ],
      "metadata": {
        "id": "bDDbM8APcHkI"
      }
    },
    {
      "cell_type": "code",
      "source": [
        "# df['alcohol'] = np.log(df['alcohol'])\n",
        "# df['alcohol'].head()"
      ],
      "metadata": {
        "id": "bUE3qdVdcIfZ"
      },
      "execution_count": 78,
      "outputs": []
    },
    {
      "cell_type": "code",
      "source": [
        "# plt.figure(figsize=(12,8))\n",
        "# sns.histplot(data = df, x='alcohol',kde=True, bins=30, color='blue')\n",
        "# plt.show();"
      ],
      "metadata": {
        "id": "07woYQ-mcIfa"
      },
      "execution_count": 79,
      "outputs": []
    },
    {
      "cell_type": "markdown",
      "source": [
        "# **Multivariate Analysis**"
      ],
      "metadata": {
        "id": "UaRd2qLsJWm4"
      }
    },
    {
      "cell_type": "markdown",
      "source": [
        "## **Correlation**"
      ],
      "metadata": {
        "id": "3_zYSNFRTlUL"
      }
    },
    {
      "cell_type": "code",
      "source": [
        "df.corr()"
      ],
      "metadata": {
        "colab": {
          "base_uri": "https://localhost:8080/",
          "height": 522
        },
        "id": "t-Y_DLyVTpZa",
        "outputId": "162c65f8-af7a-4178-d8f9-5cb1c14e26d0"
      },
      "execution_count": 80,
      "outputs": [
        {
          "output_type": "execute_result",
          "data": {
            "text/plain": [
              "                      fixed acidity  volatile acidity  citric acid  \\\n",
              "fixed acidity              1.000000         -0.256131     0.671703   \n",
              "volatile acidity          -0.256131          1.000000    -0.552496   \n",
              "citric acid                0.671703         -0.552496     1.000000   \n",
              "residual sugar             0.114777          0.001918     0.143577   \n",
              "chlorides                  0.093705          0.061298     0.203823   \n",
              "free sulfur dioxide       -0.153794         -0.010504    -0.060978   \n",
              "total sulfur dioxide      -0.113181          0.076470     0.035533   \n",
              "density                    0.668047          0.022026     0.364947   \n",
              "pH                        -0.682978          0.234937    -0.541904   \n",
              "sulphates                  0.183006         -0.260987     0.312770   \n",
              "alcohol                   -0.061668         -0.202288     0.109903   \n",
              "quality                    0.124052         -0.390558     0.226373   \n",
              "\n",
              "                      residual sugar  chlorides  free sulfur dioxide  \\\n",
              "fixed acidity               0.114777   0.093705            -0.153794   \n",
              "volatile acidity            0.001918   0.061298            -0.010504   \n",
              "citric acid                 0.143577   0.203823            -0.060978   \n",
              "residual sugar              1.000000   0.055610             0.187049   \n",
              "chlorides                   0.055610   1.000000             0.005562   \n",
              "free sulfur dioxide         0.187049   0.005562             1.000000   \n",
              "total sulfur dioxide        0.203028   0.047400             0.667666   \n",
              "density                     0.355283   0.200632            -0.021946   \n",
              "pH                         -0.085652  -0.265026             0.070377   \n",
              "sulphates                   0.005527   0.371260             0.051658   \n",
              "alcohol                     0.042075  -0.221141            -0.069408   \n",
              "quality                     0.013732  -0.128907            -0.050656   \n",
              "\n",
              "                      total sulfur dioxide   density        pH  sulphates  \\\n",
              "fixed acidity                    -0.113181  0.668047 -0.682978   0.183006   \n",
              "volatile acidity                  0.076470  0.022026  0.234937  -0.260987   \n",
              "citric acid                       0.035533  0.364947 -0.541904   0.312770   \n",
              "residual sugar                    0.203028  0.355283 -0.085652   0.005527   \n",
              "chlorides                         0.047400  0.200632 -0.265026   0.371260   \n",
              "free sulfur dioxide               0.667666 -0.021946  0.070377   0.051658   \n",
              "total sulfur dioxide              1.000000  0.071269 -0.066495   0.042947   \n",
              "density                           0.071269  1.000000 -0.341699   0.148506   \n",
              "pH                               -0.066495 -0.341699  1.000000  -0.196648   \n",
              "sulphates                         0.042947  0.148506 -0.196648   1.000000   \n",
              "alcohol                          -0.205654 -0.496180  0.205633   0.093595   \n",
              "quality                          -0.185100 -0.174919 -0.057731   0.251397   \n",
              "\n",
              "                       alcohol   quality  \n",
              "fixed acidity        -0.061668  0.124052  \n",
              "volatile acidity     -0.202288 -0.390558  \n",
              "citric acid           0.109903  0.226373  \n",
              "residual sugar        0.042075  0.013732  \n",
              "chlorides            -0.221141 -0.128907  \n",
              "free sulfur dioxide  -0.069408 -0.050656  \n",
              "total sulfur dioxide -0.205654 -0.185100  \n",
              "density              -0.496180 -0.174919  \n",
              "pH                    0.205633 -0.057731  \n",
              "sulphates             0.093595  0.251397  \n",
              "alcohol               1.000000  0.476166  \n",
              "quality               0.476166  1.000000  "
            ],
            "text/html": [
              "\n",
              "  <div id=\"df-e6254625-3fb0-4583-aec4-7bb9b06002d3\">\n",
              "    <div class=\"colab-df-container\">\n",
              "      <div>\n",
              "<style scoped>\n",
              "    .dataframe tbody tr th:only-of-type {\n",
              "        vertical-align: middle;\n",
              "    }\n",
              "\n",
              "    .dataframe tbody tr th {\n",
              "        vertical-align: top;\n",
              "    }\n",
              "\n",
              "    .dataframe thead th {\n",
              "        text-align: right;\n",
              "    }\n",
              "</style>\n",
              "<table border=\"1\" class=\"dataframe\">\n",
              "  <thead>\n",
              "    <tr style=\"text-align: right;\">\n",
              "      <th></th>\n",
              "      <th>fixed acidity</th>\n",
              "      <th>volatile acidity</th>\n",
              "      <th>citric acid</th>\n",
              "      <th>residual sugar</th>\n",
              "      <th>chlorides</th>\n",
              "      <th>free sulfur dioxide</th>\n",
              "      <th>total sulfur dioxide</th>\n",
              "      <th>density</th>\n",
              "      <th>pH</th>\n",
              "      <th>sulphates</th>\n",
              "      <th>alcohol</th>\n",
              "      <th>quality</th>\n",
              "    </tr>\n",
              "  </thead>\n",
              "  <tbody>\n",
              "    <tr>\n",
              "      <th>fixed acidity</th>\n",
              "      <td>1.000000</td>\n",
              "      <td>-0.256131</td>\n",
              "      <td>0.671703</td>\n",
              "      <td>0.114777</td>\n",
              "      <td>0.093705</td>\n",
              "      <td>-0.153794</td>\n",
              "      <td>-0.113181</td>\n",
              "      <td>0.668047</td>\n",
              "      <td>-0.682978</td>\n",
              "      <td>0.183006</td>\n",
              "      <td>-0.061668</td>\n",
              "      <td>0.124052</td>\n",
              "    </tr>\n",
              "    <tr>\n",
              "      <th>volatile acidity</th>\n",
              "      <td>-0.256131</td>\n",
              "      <td>1.000000</td>\n",
              "      <td>-0.552496</td>\n",
              "      <td>0.001918</td>\n",
              "      <td>0.061298</td>\n",
              "      <td>-0.010504</td>\n",
              "      <td>0.076470</td>\n",
              "      <td>0.022026</td>\n",
              "      <td>0.234937</td>\n",
              "      <td>-0.260987</td>\n",
              "      <td>-0.202288</td>\n",
              "      <td>-0.390558</td>\n",
              "    </tr>\n",
              "    <tr>\n",
              "      <th>citric acid</th>\n",
              "      <td>0.671703</td>\n",
              "      <td>-0.552496</td>\n",
              "      <td>1.000000</td>\n",
              "      <td>0.143577</td>\n",
              "      <td>0.203823</td>\n",
              "      <td>-0.060978</td>\n",
              "      <td>0.035533</td>\n",
              "      <td>0.364947</td>\n",
              "      <td>-0.541904</td>\n",
              "      <td>0.312770</td>\n",
              "      <td>0.109903</td>\n",
              "      <td>0.226373</td>\n",
              "    </tr>\n",
              "    <tr>\n",
              "      <th>residual sugar</th>\n",
              "      <td>0.114777</td>\n",
              "      <td>0.001918</td>\n",
              "      <td>0.143577</td>\n",
              "      <td>1.000000</td>\n",
              "      <td>0.055610</td>\n",
              "      <td>0.187049</td>\n",
              "      <td>0.203028</td>\n",
              "      <td>0.355283</td>\n",
              "      <td>-0.085652</td>\n",
              "      <td>0.005527</td>\n",
              "      <td>0.042075</td>\n",
              "      <td>0.013732</td>\n",
              "    </tr>\n",
              "    <tr>\n",
              "      <th>chlorides</th>\n",
              "      <td>0.093705</td>\n",
              "      <td>0.061298</td>\n",
              "      <td>0.203823</td>\n",
              "      <td>0.055610</td>\n",
              "      <td>1.000000</td>\n",
              "      <td>0.005562</td>\n",
              "      <td>0.047400</td>\n",
              "      <td>0.200632</td>\n",
              "      <td>-0.265026</td>\n",
              "      <td>0.371260</td>\n",
              "      <td>-0.221141</td>\n",
              "      <td>-0.128907</td>\n",
              "    </tr>\n",
              "    <tr>\n",
              "      <th>free sulfur dioxide</th>\n",
              "      <td>-0.153794</td>\n",
              "      <td>-0.010504</td>\n",
              "      <td>-0.060978</td>\n",
              "      <td>0.187049</td>\n",
              "      <td>0.005562</td>\n",
              "      <td>1.000000</td>\n",
              "      <td>0.667666</td>\n",
              "      <td>-0.021946</td>\n",
              "      <td>0.070377</td>\n",
              "      <td>0.051658</td>\n",
              "      <td>-0.069408</td>\n",
              "      <td>-0.050656</td>\n",
              "    </tr>\n",
              "    <tr>\n",
              "      <th>total sulfur dioxide</th>\n",
              "      <td>-0.113181</td>\n",
              "      <td>0.076470</td>\n",
              "      <td>0.035533</td>\n",
              "      <td>0.203028</td>\n",
              "      <td>0.047400</td>\n",
              "      <td>0.667666</td>\n",
              "      <td>1.000000</td>\n",
              "      <td>0.071269</td>\n",
              "      <td>-0.066495</td>\n",
              "      <td>0.042947</td>\n",
              "      <td>-0.205654</td>\n",
              "      <td>-0.185100</td>\n",
              "    </tr>\n",
              "    <tr>\n",
              "      <th>density</th>\n",
              "      <td>0.668047</td>\n",
              "      <td>0.022026</td>\n",
              "      <td>0.364947</td>\n",
              "      <td>0.355283</td>\n",
              "      <td>0.200632</td>\n",
              "      <td>-0.021946</td>\n",
              "      <td>0.071269</td>\n",
              "      <td>1.000000</td>\n",
              "      <td>-0.341699</td>\n",
              "      <td>0.148506</td>\n",
              "      <td>-0.496180</td>\n",
              "      <td>-0.174919</td>\n",
              "    </tr>\n",
              "    <tr>\n",
              "      <th>pH</th>\n",
              "      <td>-0.682978</td>\n",
              "      <td>0.234937</td>\n",
              "      <td>-0.541904</td>\n",
              "      <td>-0.085652</td>\n",
              "      <td>-0.265026</td>\n",
              "      <td>0.070377</td>\n",
              "      <td>-0.066495</td>\n",
              "      <td>-0.341699</td>\n",
              "      <td>1.000000</td>\n",
              "      <td>-0.196648</td>\n",
              "      <td>0.205633</td>\n",
              "      <td>-0.057731</td>\n",
              "    </tr>\n",
              "    <tr>\n",
              "      <th>sulphates</th>\n",
              "      <td>0.183006</td>\n",
              "      <td>-0.260987</td>\n",
              "      <td>0.312770</td>\n",
              "      <td>0.005527</td>\n",
              "      <td>0.371260</td>\n",
              "      <td>0.051658</td>\n",
              "      <td>0.042947</td>\n",
              "      <td>0.148506</td>\n",
              "      <td>-0.196648</td>\n",
              "      <td>1.000000</td>\n",
              "      <td>0.093595</td>\n",
              "      <td>0.251397</td>\n",
              "    </tr>\n",
              "    <tr>\n",
              "      <th>alcohol</th>\n",
              "      <td>-0.061668</td>\n",
              "      <td>-0.202288</td>\n",
              "      <td>0.109903</td>\n",
              "      <td>0.042075</td>\n",
              "      <td>-0.221141</td>\n",
              "      <td>-0.069408</td>\n",
              "      <td>-0.205654</td>\n",
              "      <td>-0.496180</td>\n",
              "      <td>0.205633</td>\n",
              "      <td>0.093595</td>\n",
              "      <td>1.000000</td>\n",
              "      <td>0.476166</td>\n",
              "    </tr>\n",
              "    <tr>\n",
              "      <th>quality</th>\n",
              "      <td>0.124052</td>\n",
              "      <td>-0.390558</td>\n",
              "      <td>0.226373</td>\n",
              "      <td>0.013732</td>\n",
              "      <td>-0.128907</td>\n",
              "      <td>-0.050656</td>\n",
              "      <td>-0.185100</td>\n",
              "      <td>-0.174919</td>\n",
              "      <td>-0.057731</td>\n",
              "      <td>0.251397</td>\n",
              "      <td>0.476166</td>\n",
              "      <td>1.000000</td>\n",
              "    </tr>\n",
              "  </tbody>\n",
              "</table>\n",
              "</div>\n",
              "      <button class=\"colab-df-convert\" onclick=\"convertToInteractive('df-e6254625-3fb0-4583-aec4-7bb9b06002d3')\"\n",
              "              title=\"Convert this dataframe to an interactive table.\"\n",
              "              style=\"display:none;\">\n",
              "        \n",
              "  <svg xmlns=\"http://www.w3.org/2000/svg\" height=\"24px\"viewBox=\"0 0 24 24\"\n",
              "       width=\"24px\">\n",
              "    <path d=\"M0 0h24v24H0V0z\" fill=\"none\"/>\n",
              "    <path d=\"M18.56 5.44l.94 2.06.94-2.06 2.06-.94-2.06-.94-.94-2.06-.94 2.06-2.06.94zm-11 1L8.5 8.5l.94-2.06 2.06-.94-2.06-.94L8.5 2.5l-.94 2.06-2.06.94zm10 10l.94 2.06.94-2.06 2.06-.94-2.06-.94-.94-2.06-.94 2.06-2.06.94z\"/><path d=\"M17.41 7.96l-1.37-1.37c-.4-.4-.92-.59-1.43-.59-.52 0-1.04.2-1.43.59L10.3 9.45l-7.72 7.72c-.78.78-.78 2.05 0 2.83L4 21.41c.39.39.9.59 1.41.59.51 0 1.02-.2 1.41-.59l7.78-7.78 2.81-2.81c.8-.78.8-2.07 0-2.86zM5.41 20L4 18.59l7.72-7.72 1.47 1.35L5.41 20z\"/>\n",
              "  </svg>\n",
              "      </button>\n",
              "      \n",
              "  <style>\n",
              "    .colab-df-container {\n",
              "      display:flex;\n",
              "      flex-wrap:wrap;\n",
              "      gap: 12px;\n",
              "    }\n",
              "\n",
              "    .colab-df-convert {\n",
              "      background-color: #E8F0FE;\n",
              "      border: none;\n",
              "      border-radius: 50%;\n",
              "      cursor: pointer;\n",
              "      display: none;\n",
              "      fill: #1967D2;\n",
              "      height: 32px;\n",
              "      padding: 0 0 0 0;\n",
              "      width: 32px;\n",
              "    }\n",
              "\n",
              "    .colab-df-convert:hover {\n",
              "      background-color: #E2EBFA;\n",
              "      box-shadow: 0px 1px 2px rgba(60, 64, 67, 0.3), 0px 1px 3px 1px rgba(60, 64, 67, 0.15);\n",
              "      fill: #174EA6;\n",
              "    }\n",
              "\n",
              "    [theme=dark] .colab-df-convert {\n",
              "      background-color: #3B4455;\n",
              "      fill: #D2E3FC;\n",
              "    }\n",
              "\n",
              "    [theme=dark] .colab-df-convert:hover {\n",
              "      background-color: #434B5C;\n",
              "      box-shadow: 0px 1px 3px 1px rgba(0, 0, 0, 0.15);\n",
              "      filter: drop-shadow(0px 1px 2px rgba(0, 0, 0, 0.3));\n",
              "      fill: #FFFFFF;\n",
              "    }\n",
              "  </style>\n",
              "\n",
              "      <script>\n",
              "        const buttonEl =\n",
              "          document.querySelector('#df-e6254625-3fb0-4583-aec4-7bb9b06002d3 button.colab-df-convert');\n",
              "        buttonEl.style.display =\n",
              "          google.colab.kernel.accessAllowed ? 'block' : 'none';\n",
              "\n",
              "        async function convertToInteractive(key) {\n",
              "          const element = document.querySelector('#df-e6254625-3fb0-4583-aec4-7bb9b06002d3');\n",
              "          const dataTable =\n",
              "            await google.colab.kernel.invokeFunction('convertToInteractive',\n",
              "                                                     [key], {});\n",
              "          if (!dataTable) return;\n",
              "\n",
              "          const docLinkHtml = 'Like what you see? Visit the ' +\n",
              "            '<a target=\"_blank\" href=https://colab.research.google.com/notebooks/data_table.ipynb>data table notebook</a>'\n",
              "            + ' to learn more about interactive tables.';\n",
              "          element.innerHTML = '';\n",
              "          dataTable['output_type'] = 'display_data';\n",
              "          await google.colab.output.renderOutput(dataTable, element);\n",
              "          const docLink = document.createElement('div');\n",
              "          docLink.innerHTML = docLinkHtml;\n",
              "          element.appendChild(docLink);\n",
              "        }\n",
              "      </script>\n",
              "    </div>\n",
              "  </div>\n",
              "  "
            ]
          },
          "metadata": {},
          "execution_count": 80
        }
      ]
    },
    {
      "cell_type": "markdown",
      "source": [
        "**Heatmap**\n",
        "* To check correlation between the features"
      ],
      "metadata": {
        "id": "yQsWOexGK0n8"
      }
    },
    {
      "cell_type": "code",
      "source": [
        "sns.set(rc={'figure.figsize':(15,10)})\n",
        "sns.heatmap(data = df.corr(), annot=True,  vmin=-1, vmax=1)"
      ],
      "metadata": {
        "colab": {
          "base_uri": "https://localhost:8080/",
          "height": 709
        },
        "id": "MuOS3UCxTuUR",
        "outputId": "2dbc183b-f42b-4033-a9e9-e8399784b7a8"
      },
      "execution_count": 81,
      "outputs": [
        {
          "output_type": "execute_result",
          "data": {
            "text/plain": [
              "<matplotlib.axes._subplots.AxesSubplot at 0x7fe896571f10>"
            ]
          },
          "metadata": {},
          "execution_count": 81
        },
        {
          "output_type": "display_data",
          "data": {
            "text/plain": [
              "<Figure size 1080x720 with 2 Axes>"
            ],
            "image/png": "[encoded data removed]"
          },
          "metadata": {}
        }
      ]
    },
    {
      "cell_type": "markdown",
      "source": [
        "Remove the below features because their correlation wrt target variable is very less\n",
        "* Residual Sugar\n",
        "* free sulfur dioxide\n",
        "* pH"
      ],
      "metadata": {
        "id": "8AD-SjdhW8Hq"
      }
    },
    {
      "cell_type": "markdown",
      "source": [
        "# **Segregate independent and dependent variable**"
      ],
      "metadata": {
        "id": "hR_bUpQFeOGz"
      }
    },
    {
      "cell_type": "code",
      "source": [
        "X=df.drop(\"quality\",axis=1)"
      ],
      "metadata": {
        "id": "1Rles1Rfa8f6"
      },
      "execution_count": 82,
      "outputs": []
    },
    {
      "cell_type": "code",
      "source": [
        "y=df[\"quality\"]"
      ],
      "metadata": {
        "id": "ktVtgVYpa_Qi"
      },
      "execution_count": 83,
      "outputs": []
    },
    {
      "cell_type": "markdown",
      "source": [
        "# **Train Test Split**"
      ],
      "metadata": {
        "id": "0W5KST4ZZABd"
      }
    },
    {
      "cell_type": "code",
      "source": [
        "from sklearn.model_selection import train_test_split\n",
        "X_train, X_test, y_train, y_test = train_test_split(X, y, test_size=0.33, random_state=42)"
      ],
      "metadata": {
        "id": "m4O1hyKibByp"
      },
      "execution_count": 84,
      "outputs": []
    },
    {
      "cell_type": "code",
      "source": [
        "print(X_train.shape)\n",
        "print(X_test.shape)"
      ],
      "metadata": {
        "colab": {
          "base_uri": "https://localhost:8080/"
        },
        "id": "PbSmITeAJdgy",
        "outputId": "853f5848-22f0-4255-d384-8f0eee3e198f"
      },
      "execution_count": 85,
      "outputs": [
        {
          "output_type": "stream",
          "name": "stdout",
          "text": [
            "(1071, 11)\n",
            "(528, 11)\n"
          ]
        }
      ]
    },
    {
      "cell_type": "code",
      "source": [
        "print(y_train.shape)\n",
        "print(y_test.shape)"
      ],
      "metadata": {
        "colab": {
          "base_uri": "https://localhost:8080/"
        },
        "id": "sHim4cSjJliA",
        "outputId": "dd93d905-38e9-4307-d11f-aa3c1e53f99f"
      },
      "execution_count": 86,
      "outputs": [
        {
          "output_type": "stream",
          "name": "stdout",
          "text": [
            "(1071,)\n",
            "(528,)\n"
          ]
        }
      ]
    },
    {
      "cell_type": "markdown",
      "source": [
        "# **Scaling**"
      ],
      "metadata": {
        "id": "r4nbym1QZDX-"
      }
    },
    {
      "cell_type": "code",
      "source": [
        " from sklearn.preprocessing import StandardScaler"
      ],
      "metadata": {
        "id": "vvw0MeK-bGOa"
      },
      "execution_count": 87,
      "outputs": []
    },
    {
      "cell_type": "code",
      "source": [
        "scaler = StandardScaler()"
      ],
      "metadata": {
        "id": "aJwSNrWGbH4x"
      },
      "execution_count": 88,
      "outputs": []
    },
    {
      "cell_type": "code",
      "source": [
        "scaler.fit(X_train)##It will perform standarization based on the calculation of the mean and std dev"
      ],
      "metadata": {
        "colab": {
          "base_uri": "https://localhost:8080/"
        },
        "id": "ymhQEwIYbI5I",
        "outputId": "2b67b5f8-3abc-410d-d6c9-524ddf63f9ba"
      },
      "execution_count": 89,
      "outputs": [
        {
          "output_type": "execute_result",
          "data": {
            "text/plain": [
              "StandardScaler()"
            ]
          },
          "metadata": {},
          "execution_count": 89
        }
      ]
    },
    {
      "cell_type": "code",
      "source": [
        "print(scaler.mean_)"
      ],
      "metadata": {
        "colab": {
          "base_uri": "https://localhost:8080/"
        },
        "id": "XTdyNae7bJ3R",
        "outputId": "f682358a-0970-4afa-d257-55a43c6dd4a0"
      },
      "execution_count": 90,
      "outputs": [
        {
          "output_type": "stream",
          "name": "stdout",
          "text": [
            "[ 8.30345472  0.53246499  0.26933707  2.54691877  0.08772736 15.91223156\n",
            " 46.76330532  0.99677933  3.31453782  0.65881419 10.41521942]\n"
          ]
        }
      ]
    },
    {
      "cell_type": "code",
      "source": [
        "X_train_tf=scaler.transform(X_train)\n",
        "X_train_tf"
      ],
      "metadata": {
        "colab": {
          "base_uri": "https://localhost:8080/"
        },
        "id": "3lw4HrzfbLRL",
        "outputId": "e1fc426b-6491-4959-cdb7-445ebc2a1beb"
      },
      "execution_count": 91,
      "outputs": [
        {
          "output_type": "execute_result",
          "data": {
            "text/plain": [
              "array([[ 2.40069523, -1.03103722,  1.12742595, ..., -1.26096312,\n",
              "         0.52726134, -0.01431863],\n",
              "       [-0.93967131,  1.22920403, -1.32502245, ...,  1.52622836,\n",
              "        -0.28225704,  2.24363201],\n",
              "       [-0.99827424,  0.55113165, -1.37611513, ..., -0.74241587,\n",
              "        -1.20742091, -0.86105011],\n",
              "       ...,\n",
              "       [-0.6466567 ,  0.49462562, -1.06955908, ...,  1.26695473,\n",
              "        -0.68701624, -0.86105011],\n",
              "       [-0.23643625, -1.87862768,  0.4121285 , ...,  0.03540501,\n",
              "         0.81637505,  1.39690052],\n",
              "       [-1.46709761, -1.3700734 , -0.04770558, ...,  0.48913386,\n",
              "        -0.68701624,  2.90220094]])"
            ]
          },
          "metadata": {},
          "execution_count": 91
        }
      ]
    },
    {
      "cell_type": "markdown",
      "source": [
        "# **Support Vector Classifier (SVC)**"
      ],
      "metadata": {
        "id": "mKOObUgOYYom"
      }
    },
    {
      "cell_type": "code",
      "source": [
        "from sklearn.svm import SVC\n",
        "SVC_Model=SVC()"
      ],
      "metadata": {
        "id": "NipzeZ3MbPrT"
      },
      "execution_count": 92,
      "outputs": []
    },
    {
      "cell_type": "code",
      "source": [
        "SVC_Model.fit(X_train_tf,y_train)"
      ],
      "metadata": {
        "colab": {
          "base_uri": "https://localhost:8080/"
        },
        "id": "kvJcGgiObRB7",
        "outputId": "148a89e9-0052-4039-867c-ea9d46c881fa"
      },
      "execution_count": 93,
      "outputs": [
        {
          "output_type": "execute_result",
          "data": {
            "text/plain": [
              "SVC()"
            ]
          },
          "metadata": {},
          "execution_count": 93
        }
      ]
    },
    {
      "cell_type": "markdown",
      "source": [
        "## **Saving the model using pickle**"
      ],
      "metadata": {
        "id": "kvMffKu5KfmO"
      }
    },
    {
      "cell_type": "code",
      "source": [
        "import pickle \n",
        "with open(\"RedWineQualitySVC.pkl\", 'wb') as f:\n",
        "    pickle.dump(SVC_Model, f)"
      ],
      "metadata": {
        "id": "kweFdxL5KgIi"
      },
      "execution_count": 94,
      "outputs": []
    },
    {
      "cell_type": "markdown",
      "source": [
        "**Train Accuracy**"
      ],
      "metadata": {
        "id": "t9cOy7q-zJLo"
      }
    },
    {
      "cell_type": "code",
      "source": [
        "SVC_Model.score(X_train_tf,y_train)"
      ],
      "metadata": {
        "colab": {
          "base_uri": "https://localhost:8080/"
        },
        "id": "Rk9tWXK5bSIh",
        "outputId": "f75edb7d-c7ac-4515-80bd-1cc560f0be09"
      },
      "execution_count": 95,
      "outputs": [
        {
          "output_type": "execute_result",
          "data": {
            "text/plain": [
              "0.6778711484593838"
            ]
          },
          "metadata": {},
          "execution_count": 95
        }
      ]
    },
    {
      "cell_type": "markdown",
      "source": [
        "### **Test Data**"
      ],
      "metadata": {
        "id": "ebS58EoFLRhy"
      }
    },
    {
      "cell_type": "markdown",
      "source": [
        "**Scaling on Test Data**"
      ],
      "metadata": {
        "id": "1DFLdJX73se5"
      }
    },
    {
      "cell_type": "code",
      "source": [
        "X_test_tf=scaler.transform(X_test)\n",
        "X_test_tf"
      ],
      "metadata": {
        "colab": {
          "base_uri": "https://localhost:8080/"
        },
        "id": "BWA_FipfbTM5",
        "outputId": "5a97fcc3-6d67-4889-c378-6db3eb7f2c7e"
      },
      "execution_count": 96,
      "outputs": [
        {
          "output_type": "execute_result",
          "data": {
            "text/plain": [
              "array([[-3.53642095e-01,  1.55589436e-01, -9.67373729e-01, ...,\n",
              "        -4.83142240e-01,  6.85666499e-03, -7.66968836e-01],\n",
              "       [-2.95039173e-01, -1.83446751e-01, -5.07539654e-01, ...,\n",
              "         4.89133857e-01, -1.03395269e+00, -8.61050113e-01],\n",
              "       [ 1.40444556e+00,  7.77155778e-01, -2.52076279e-01, ...,\n",
              "        -2.23868614e-01,  1.85718440e+00, -4.84725007e-01],\n",
              "       ...,\n",
              "       [-2.02456406e-03, -1.25706134e+00,  6.16499196e-01, ...,\n",
              "        -2.94133945e-02,  6.42906824e-01,  1.96138818e+00],\n",
              "       [-6.06274859e-02,  4.50655383e+00, -1.37611513e+00, ...,\n",
              "         1.39659155e+00, -9.76129945e-01,  4.56087756e-01],\n",
              "       [ 4.66798811e-01,  7.20649747e-01, -6.09725004e-01, ...,\n",
              "        -2.23868614e-01, -6.87016236e-01, -7.66968836e-01]])"
            ]
          },
          "metadata": {},
          "execution_count": 96
        }
      ]
    },
    {
      "cell_type": "markdown",
      "metadata": {
        "id": "56af2da0"
      },
      "source": [
        "## **Importing pickle file for test data prediction**"
      ]
    },
    {
      "cell_type": "code",
      "execution_count": 97,
      "metadata": {
        "id": "9d2357d2"
      },
      "outputs": [],
      "source": [
        "SVC_load = pickle.load(open('RedWineQualitySVC.pkl', 'rb'))"
      ]
    },
    {
      "cell_type": "code",
      "execution_count": 98,
      "metadata": {
        "id": "a6645513-8d2a-4a86-9381-03020b1f2cc9"
      },
      "outputs": [],
      "source": [
        "y_predict_SVC = SVC_load.predict(X_test_tf)"
      ]
    },
    {
      "cell_type": "code",
      "execution_count": 99,
      "metadata": {
        "colab": {
          "base_uri": "https://localhost:8080/"
        },
        "id": "0601e068-392a-456f-a7bc-b10bc6866fbd",
        "outputId": "dd052eb3-b293-4a54-fc8a-3861de46e46c"
      },
      "outputs": [
        {
          "output_type": "execute_result",
          "data": {
            "text/plain": [
              "803     6\n",
              "124     5\n",
              "350     6\n",
              "682     5\n",
              "1326    6\n",
              "       ..\n",
              "813     4\n",
              "377     7\n",
              "898     7\n",
              "126     5\n",
              "819     5\n",
              "Name: quality, Length: 528, dtype: int64"
            ]
          },
          "metadata": {},
          "execution_count": 99
        }
      ],
      "source": [
        "y_test"
      ]
    },
    {
      "cell_type": "markdown",
      "source": [
        "**Test Accuracy**"
      ],
      "metadata": {
        "id": "ExAOe0cqzNU4"
      }
    },
    {
      "cell_type": "code",
      "source": [
        "from sklearn.metrics import classification_report, confusion_matrix"
      ],
      "metadata": {
        "id": "HZWc7vtHMUPh"
      },
      "execution_count": 100,
      "outputs": []
    },
    {
      "cell_type": "code",
      "source": [
        "print(\"--------------------------------------------------------\")\n",
        "print(\"COnfusion Matrix\")\n",
        "print(confusion_matrix(y_test,y_predict_SVC))\n",
        "print(\"--------------------------------------------------------\")\n",
        "print(\"Classification report\")\n",
        "print(classification_report(y_test,y_predict_SVC))\n",
        "print(\"--------------------------------------------------------\")"
      ],
      "metadata": {
        "colab": {
          "base_uri": "https://localhost:8080/"
        },
        "outputId": "984b6240-461f-4ecf-d979-af54c447a86b",
        "id": "5orScMEGMUPi"
      },
      "execution_count": 101,
      "outputs": [
        {
          "output_type": "stream",
          "name": "stdout",
          "text": [
            "--------------------------------------------------------\n",
            "COnfusion Matrix\n",
            "[[  0   0   2   0   0   0]\n",
            " [  0   0  13   6   0   0]\n",
            " [  0   0 170  46   1   0]\n",
            " [  0   0  76 127  10   0]\n",
            " [  0   0   0  51  19   0]\n",
            " [  0   0   0   3   4   0]]\n",
            "--------------------------------------------------------\n",
            "Classification report\n",
            "              precision    recall  f1-score   support\n",
            "\n",
            "           3       0.00      0.00      0.00         2\n",
            "           4       0.00      0.00      0.00        19\n",
            "           5       0.65      0.78      0.71       217\n",
            "           6       0.55      0.60      0.57       213\n",
            "           7       0.56      0.27      0.37        70\n",
            "           8       0.00      0.00      0.00         7\n",
            "\n",
            "    accuracy                           0.60       528\n",
            "   macro avg       0.29      0.28      0.27       528\n",
            "weighted avg       0.56      0.60      0.57       528\n",
            "\n",
            "--------------------------------------------------------\n"
          ]
        }
      ]
    },
    {
      "cell_type": "markdown",
      "source": [
        "## **GridSearchCV**\n",
        "* GridSearch cross-validation\n",
        "* GridSearchCV is a technique for finding the optimal parameter values from a given set of parameters in a grid. It’s essentially a cross-validation technique. The model as well as the parameters must be entered. After extracting the best parameter values, predictions are made."
      ],
      "metadata": {
        "id": "kNcHMjfujcKC"
      }
    },
    {
      "cell_type": "code",
      "source": [
        "from sklearn.model_selection import GridSearchCV"
      ],
      "metadata": {
        "id": "V5Xlw33len1x"
      },
      "execution_count": 102,
      "outputs": []
    },
    {
      "cell_type": "markdown",
      "source": [
        "**1. Kernels**\n",
        "* The main function of the kernel is to take low dimensional input space and transform it into a higher-dimensional space. It is mostly useful in non-linear separation problem\n",
        "\n",
        "**2. C (Regularisation)** \n",
        "* C is the penalty parameter, which represents misclassification or error term. The misclassification or error term tells the SVM optimisation how much error is bearable. This is how you can control the trade-off between decision boundary and misclassification term.\n",
        "when C is high it will classify all the df points correctly, also there is a chance to overfit\n",
        "\n",
        "**3. Gamma**\n",
        "* It defines how far influences the calculation of plausible line of separation.\n",
        "when gamma is higher, nearby points will have high influence; low gamma means far away points also be considered to get the decision boundary."
      ],
      "metadata": {
        "id": "qoi8S_c7fr57"
      }
    },
    {
      "cell_type": "code",
      "source": [
        "param_grid = {'C': [0.1,1, 10, 100], 'gamma': [1,0.1,0.01,0.001],'kernel': ['linear','rbf']}"
      ],
      "metadata": {
        "id": "0Ox76PlWera_"
      },
      "execution_count": 103,
      "outputs": []
    },
    {
      "cell_type": "code",
      "source": [
        "grid_model = GridSearchCV(SVC(),param_grid,refit=True,verbose=3)\n",
        "grid_model.fit(X_train_tf,y_train)"
      ],
      "metadata": {
        "colab": {
          "base_uri": "https://localhost:8080/"
        },
        "id": "VcXxnKhVeuf0",
        "outputId": "8b1ae569-83d6-44d1-bb2b-3404e1e5891f"
      },
      "execution_count": 104,
      "outputs": [
        {
          "output_type": "stream",
          "name": "stdout",
          "text": [
            "Fitting 5 folds for each of 32 candidates, totalling 160 fits\n",
            "[CV 1/5] END .....C=0.1, gamma=1, kernel=linear;, score=0.549 total time=   0.0s\n",
            "[CV 2/5] END .....C=0.1, gamma=1, kernel=linear;, score=0.561 total time=   0.0s\n",
            "[CV 3/5] END .....C=0.1, gamma=1, kernel=linear;, score=0.561 total time=   0.0s\n",
            "[CV 4/5] END .....C=0.1, gamma=1, kernel=linear;, score=0.593 total time=   0.0s\n",
            "[CV 5/5] END .....C=0.1, gamma=1, kernel=linear;, score=0.659 total time=   0.0s\n",
            "[CV 1/5] END ........C=0.1, gamma=1, kernel=rbf;, score=0.433 total time=   0.1s\n",
            "[CV 2/5] END ........C=0.1, gamma=1, kernel=rbf;, score=0.435 total time=   0.1s\n",
            "[CV 3/5] END ........C=0.1, gamma=1, kernel=rbf;, score=0.435 total time=   0.1s\n",
            "[CV 4/5] END ........C=0.1, gamma=1, kernel=rbf;, score=0.435 total time=   0.1s\n",
            "[CV 5/5] END ........C=0.1, gamma=1, kernel=rbf;, score=0.430 total time=   0.1s\n",
            "[CV 1/5] END ...C=0.1, gamma=0.1, kernel=linear;, score=0.549 total time=   0.0s\n",
            "[CV 2/5] END ...C=0.1, gamma=0.1, kernel=linear;, score=0.561 total time=   0.0s\n",
            "[CV 3/5] END ...C=0.1, gamma=0.1, kernel=linear;, score=0.561 total time=   0.0s\n",
            "[CV 4/5] END ...C=0.1, gamma=0.1, kernel=linear;, score=0.593 total time=   0.0s\n",
            "[CV 5/5] END ...C=0.1, gamma=0.1, kernel=linear;, score=0.659 total time=   0.0s\n",
            "[CV 1/5] END ......C=0.1, gamma=0.1, kernel=rbf;, score=0.567 total time=   0.1s\n",
            "[CV 2/5] END ......C=0.1, gamma=0.1, kernel=rbf;, score=0.579 total time=   0.1s\n",
            "[CV 3/5] END ......C=0.1, gamma=0.1, kernel=rbf;, score=0.579 total time=   0.1s\n",
            "[CV 4/5] END ......C=0.1, gamma=0.1, kernel=rbf;, score=0.607 total time=   0.1s\n",
            "[CV 5/5] END ......C=0.1, gamma=0.1, kernel=rbf;, score=0.650 total time=   0.1s\n",
            "[CV 1/5] END ..C=0.1, gamma=0.01, kernel=linear;, score=0.549 total time=   0.0s\n",
            "[CV 2/5] END ..C=0.1, gamma=0.01, kernel=linear;, score=0.561 total time=   0.0s\n",
            "[CV 3/5] END ..C=0.1, gamma=0.01, kernel=linear;, score=0.561 total time=   0.0s\n",
            "[CV 4/5] END ..C=0.1, gamma=0.01, kernel=linear;, score=0.593 total time=   0.0s\n",
            "[CV 5/5] END ..C=0.1, gamma=0.01, kernel=linear;, score=0.659 total time=   0.0s\n",
            "[CV 1/5] END .....C=0.1, gamma=0.01, kernel=rbf;, score=0.530 total time=   0.1s\n",
            "[CV 2/5] END .....C=0.1, gamma=0.01, kernel=rbf;, score=0.556 total time=   0.1s\n",
            "[CV 3/5] END .....C=0.1, gamma=0.01, kernel=rbf;, score=0.565 total time=   0.1s\n",
            "[CV 4/5] END .....C=0.1, gamma=0.01, kernel=rbf;, score=0.589 total time=   0.1s\n",
            "[CV 5/5] END .....C=0.1, gamma=0.01, kernel=rbf;, score=0.621 total time=   0.1s\n",
            "[CV 1/5] END .C=0.1, gamma=0.001, kernel=linear;, score=0.549 total time=   0.0s\n",
            "[CV 2/5] END .C=0.1, gamma=0.001, kernel=linear;, score=0.561 total time=   0.0s\n",
            "[CV 3/5] END .C=0.1, gamma=0.001, kernel=linear;, score=0.561 total time=   0.0s\n",
            "[CV 4/5] END .C=0.1, gamma=0.001, kernel=linear;, score=0.593 total time=   0.0s\n",
            "[CV 5/5] END .C=0.1, gamma=0.001, kernel=linear;, score=0.659 total time=   0.0s\n",
            "[CV 1/5] END ....C=0.1, gamma=0.001, kernel=rbf;, score=0.433 total time=   0.1s\n",
            "[CV 2/5] END ....C=0.1, gamma=0.001, kernel=rbf;, score=0.435 total time=   0.1s\n",
            "[CV 3/5] END ....C=0.1, gamma=0.001, kernel=rbf;, score=0.435 total time=   0.1s\n",
            "[CV 4/5] END ....C=0.1, gamma=0.001, kernel=rbf;, score=0.435 total time=   0.1s\n",
            "[CV 5/5] END ....C=0.1, gamma=0.001, kernel=rbf;, score=0.430 total time=   0.1s\n",
            "[CV 1/5] END .......C=1, gamma=1, kernel=linear;, score=0.549 total time=   0.1s\n",
            "[CV 2/5] END .......C=1, gamma=1, kernel=linear;, score=0.584 total time=   0.1s\n",
            "[CV 3/5] END .......C=1, gamma=1, kernel=linear;, score=0.565 total time=   0.1s\n",
            "[CV 4/5] END .......C=1, gamma=1, kernel=linear;, score=0.598 total time=   0.1s\n",
            "[CV 5/5] END .......C=1, gamma=1, kernel=linear;, score=0.664 total time=   0.1s\n",
            "[CV 1/5] END ..........C=1, gamma=1, kernel=rbf;, score=0.619 total time=   0.1s\n",
            "[CV 2/5] END ..........C=1, gamma=1, kernel=rbf;, score=0.565 total time=   0.1s\n",
            "[CV 3/5] END ..........C=1, gamma=1, kernel=rbf;, score=0.621 total time=   0.1s\n",
            "[CV 4/5] END ..........C=1, gamma=1, kernel=rbf;, score=0.673 total time=   0.1s\n",
            "[CV 5/5] END ..........C=1, gamma=1, kernel=rbf;, score=0.682 total time=   0.1s\n",
            "[CV 1/5] END .....C=1, gamma=0.1, kernel=linear;, score=0.549 total time=   0.1s\n",
            "[CV 2/5] END .....C=1, gamma=0.1, kernel=linear;, score=0.584 total time=   0.1s\n",
            "[CV 3/5] END .....C=1, gamma=0.1, kernel=linear;, score=0.565 total time=   0.1s\n",
            "[CV 4/5] END .....C=1, gamma=0.1, kernel=linear;, score=0.598 total time=   0.1s\n",
            "[CV 5/5] END .....C=1, gamma=0.1, kernel=linear;, score=0.664 total time=   0.1s\n",
            "[CV 1/5] END ........C=1, gamma=0.1, kernel=rbf;, score=0.577 total time=   0.1s\n",
            "[CV 2/5] END ........C=1, gamma=0.1, kernel=rbf;, score=0.612 total time=   0.1s\n",
            "[CV 3/5] END ........C=1, gamma=0.1, kernel=rbf;, score=0.603 total time=   0.1s\n",
            "[CV 4/5] END ........C=1, gamma=0.1, kernel=rbf;, score=0.636 total time=   0.1s\n",
            "[CV 5/5] END ........C=1, gamma=0.1, kernel=rbf;, score=0.678 total time=   0.1s\n",
            "[CV 1/5] END ....C=1, gamma=0.01, kernel=linear;, score=0.549 total time=   0.1s\n",
            "[CV 2/5] END ....C=1, gamma=0.01, kernel=linear;, score=0.584 total time=   0.1s\n",
            "[CV 3/5] END ....C=1, gamma=0.01, kernel=linear;, score=0.565 total time=   0.1s\n",
            "[CV 4/5] END ....C=1, gamma=0.01, kernel=linear;, score=0.598 total time=   0.1s\n",
            "[CV 5/5] END ....C=1, gamma=0.01, kernel=linear;, score=0.664 total time=   0.1s\n",
            "[CV 1/5] END .......C=1, gamma=0.01, kernel=rbf;, score=0.558 total time=   0.1s\n",
            "[CV 2/5] END .......C=1, gamma=0.01, kernel=rbf;, score=0.570 total time=   0.1s\n",
            "[CV 3/5] END .......C=1, gamma=0.01, kernel=rbf;, score=0.584 total time=   0.1s\n",
            "[CV 4/5] END .......C=1, gamma=0.01, kernel=rbf;, score=0.593 total time=   0.1s\n",
            "[CV 5/5] END .......C=1, gamma=0.01, kernel=rbf;, score=0.645 total time=   0.1s\n",
            "[CV 1/5] END ...C=1, gamma=0.001, kernel=linear;, score=0.549 total time=   0.1s\n",
            "[CV 2/5] END ...C=1, gamma=0.001, kernel=linear;, score=0.584 total time=   0.1s\n",
            "[CV 3/5] END ...C=1, gamma=0.001, kernel=linear;, score=0.565 total time=   0.1s\n",
            "[CV 4/5] END ...C=1, gamma=0.001, kernel=linear;, score=0.598 total time=   0.1s\n",
            "[CV 5/5] END ...C=1, gamma=0.001, kernel=linear;, score=0.664 total time=   0.1s\n",
            "[CV 1/5] END ......C=1, gamma=0.001, kernel=rbf;, score=0.535 total time=   0.1s\n",
            "[CV 2/5] END ......C=1, gamma=0.001, kernel=rbf;, score=0.556 total time=   0.1s\n",
            "[CV 3/5] END ......C=1, gamma=0.001, kernel=rbf;, score=0.570 total time=   0.1s\n",
            "[CV 4/5] END ......C=1, gamma=0.001, kernel=rbf;, score=0.607 total time=   0.1s\n",
            "[CV 5/5] END ......C=1, gamma=0.001, kernel=rbf;, score=0.626 total time=   0.1s\n",
            "[CV 1/5] END ......C=10, gamma=1, kernel=linear;, score=0.549 total time=   0.2s\n",
            "[CV 2/5] END ......C=10, gamma=1, kernel=linear;, score=0.584 total time=   0.2s\n",
            "[CV 3/5] END ......C=10, gamma=1, kernel=linear;, score=0.565 total time=   0.1s\n",
            "[CV 4/5] END ......C=10, gamma=1, kernel=linear;, score=0.598 total time=   0.1s\n",
            "[CV 5/5] END ......C=10, gamma=1, kernel=linear;, score=0.664 total time=   0.2s\n",
            "[CV 1/5] END .........C=10, gamma=1, kernel=rbf;, score=0.628 total time=   0.1s\n",
            "[CV 2/5] END .........C=10, gamma=1, kernel=rbf;, score=0.603 total time=   0.1s\n",
            "[CV 3/5] END .........C=10, gamma=1, kernel=rbf;, score=0.626 total time=   0.1s\n",
            "[CV 4/5] END .........C=10, gamma=1, kernel=rbf;, score=0.654 total time=   0.1s\n",
            "[CV 5/5] END .........C=10, gamma=1, kernel=rbf;, score=0.664 total time=   0.1s\n",
            "[CV 1/5] END ....C=10, gamma=0.1, kernel=linear;, score=0.549 total time=   0.2s\n",
            "[CV 2/5] END ....C=10, gamma=0.1, kernel=linear;, score=0.584 total time=   0.2s\n",
            "[CV 3/5] END ....C=10, gamma=0.1, kernel=linear;, score=0.565 total time=   0.1s\n",
            "[CV 4/5] END ....C=10, gamma=0.1, kernel=linear;, score=0.598 total time=   0.2s\n",
            "[CV 5/5] END ....C=10, gamma=0.1, kernel=linear;, score=0.664 total time=   0.2s\n",
            "[CV 1/5] END .......C=10, gamma=0.1, kernel=rbf;, score=0.605 total time=   0.1s\n",
            "[CV 2/5] END .......C=10, gamma=0.1, kernel=rbf;, score=0.603 total time=   0.1s\n",
            "[CV 3/5] END .......C=10, gamma=0.1, kernel=rbf;, score=0.584 total time=   0.1s\n",
            "[CV 4/5] END .......C=10, gamma=0.1, kernel=rbf;, score=0.631 total time=   0.1s\n",
            "[CV 5/5] END .......C=10, gamma=0.1, kernel=rbf;, score=0.682 total time=   0.1s\n",
            "[CV 1/5] END ...C=10, gamma=0.01, kernel=linear;, score=0.549 total time=   0.2s\n",
            "[CV 2/5] END ...C=10, gamma=0.01, kernel=linear;, score=0.584 total time=   0.2s\n",
            "[CV 3/5] END ...C=10, gamma=0.01, kernel=linear;, score=0.565 total time=   0.2s\n",
            "[CV 4/5] END ...C=10, gamma=0.01, kernel=linear;, score=0.598 total time=   0.2s\n",
            "[CV 5/5] END ...C=10, gamma=0.01, kernel=linear;, score=0.664 total time=   0.2s\n",
            "[CV 1/5] END ......C=10, gamma=0.01, kernel=rbf;, score=0.563 total time=   0.1s\n",
            "[CV 2/5] END ......C=10, gamma=0.01, kernel=rbf;, score=0.575 total time=   0.1s\n",
            "[CV 3/5] END ......C=10, gamma=0.01, kernel=rbf;, score=0.565 total time=   0.1s\n",
            "[CV 4/5] END ......C=10, gamma=0.01, kernel=rbf;, score=0.603 total time=   0.1s\n",
            "[CV 5/5] END ......C=10, gamma=0.01, kernel=rbf;, score=0.692 total time=   0.1s\n",
            "[CV 1/5] END ..C=10, gamma=0.001, kernel=linear;, score=0.549 total time=   0.2s\n",
            "[CV 2/5] END ..C=10, gamma=0.001, kernel=linear;, score=0.584 total time=   0.2s\n",
            "[CV 3/5] END ..C=10, gamma=0.001, kernel=linear;, score=0.565 total time=   0.1s\n",
            "[CV 4/5] END ..C=10, gamma=0.001, kernel=linear;, score=0.598 total time=   0.2s\n",
            "[CV 5/5] END ..C=10, gamma=0.001, kernel=linear;, score=0.664 total time=   0.2s\n",
            "[CV 1/5] END .....C=10, gamma=0.001, kernel=rbf;, score=0.544 total time=   0.1s\n",
            "[CV 2/5] END .....C=10, gamma=0.001, kernel=rbf;, score=0.570 total time=   0.1s\n",
            "[CV 3/5] END .....C=10, gamma=0.001, kernel=rbf;, score=0.579 total time=   0.1s\n",
            "[CV 4/5] END .....C=10, gamma=0.001, kernel=rbf;, score=0.593 total time=   0.1s\n",
            "[CV 5/5] END .....C=10, gamma=0.001, kernel=rbf;, score=0.650 total time=   0.1s\n",
            "[CV 1/5] END .....C=100, gamma=1, kernel=linear;, score=0.553 total time=   1.2s\n",
            "[CV 2/5] END .....C=100, gamma=1, kernel=linear;, score=0.584 total time=   1.1s\n",
            "[CV 3/5] END .....C=100, gamma=1, kernel=linear;, score=0.561 total time=   1.7s\n",
            "[CV 4/5] END .....C=100, gamma=1, kernel=linear;, score=0.603 total time=   0.7s\n",
            "[CV 5/5] END .....C=100, gamma=1, kernel=linear;, score=0.664 total time=   2.1s\n",
            "[CV 1/5] END ........C=100, gamma=1, kernel=rbf;, score=0.628 total time=   0.1s\n",
            "[CV 2/5] END ........C=100, gamma=1, kernel=rbf;, score=0.603 total time=   0.1s\n",
            "[CV 3/5] END ........C=100, gamma=1, kernel=rbf;, score=0.617 total time=   0.1s\n",
            "[CV 4/5] END ........C=100, gamma=1, kernel=rbf;, score=0.659 total time=   0.1s\n",
            "[CV 5/5] END ........C=100, gamma=1, kernel=rbf;, score=0.654 total time=   0.1s\n",
            "[CV 1/5] END ...C=100, gamma=0.1, kernel=linear;, score=0.553 total time=   1.2s\n",
            "[CV 2/5] END ...C=100, gamma=0.1, kernel=linear;, score=0.584 total time=   1.1s\n",
            "[CV 3/5] END ...C=100, gamma=0.1, kernel=linear;, score=0.561 total time=   1.7s\n",
            "[CV 4/5] END ...C=100, gamma=0.1, kernel=linear;, score=0.603 total time=   0.7s\n",
            "[CV 5/5] END ...C=100, gamma=0.1, kernel=linear;, score=0.664 total time=   2.1s\n",
            "[CV 1/5] END ......C=100, gamma=0.1, kernel=rbf;, score=0.609 total time=   0.1s\n",
            "[CV 2/5] END ......C=100, gamma=0.1, kernel=rbf;, score=0.579 total time=   0.1s\n",
            "[CV 3/5] END ......C=100, gamma=0.1, kernel=rbf;, score=0.584 total time=   0.1s\n",
            "[CV 4/5] END ......C=100, gamma=0.1, kernel=rbf;, score=0.631 total time=   0.1s\n",
            "[CV 5/5] END ......C=100, gamma=0.1, kernel=rbf;, score=0.650 total time=   0.1s\n",
            "[CV 1/5] END ..C=100, gamma=0.01, kernel=linear;, score=0.553 total time=   1.2s\n",
            "[CV 2/5] END ..C=100, gamma=0.01, kernel=linear;, score=0.584 total time=   1.1s\n",
            "[CV 3/5] END ..C=100, gamma=0.01, kernel=linear;, score=0.561 total time=   1.8s\n",
            "[CV 4/5] END ..C=100, gamma=0.01, kernel=linear;, score=0.603 total time=   0.7s\n",
            "[CV 5/5] END ..C=100, gamma=0.01, kernel=linear;, score=0.664 total time=   2.1s\n",
            "[CV 1/5] END .....C=100, gamma=0.01, kernel=rbf;, score=0.549 total time=   0.1s\n",
            "[CV 2/5] END .....C=100, gamma=0.01, kernel=rbf;, score=0.575 total time=   0.1s\n",
            "[CV 3/5] END .....C=100, gamma=0.01, kernel=rbf;, score=0.551 total time=   0.1s\n",
            "[CV 4/5] END .....C=100, gamma=0.01, kernel=rbf;, score=0.617 total time=   0.1s\n",
            "[CV 5/5] END .....C=100, gamma=0.01, kernel=rbf;, score=0.692 total time=   0.1s\n",
            "[CV 1/5] END .C=100, gamma=0.001, kernel=linear;, score=0.553 total time=   1.2s\n",
            "[CV 2/5] END .C=100, gamma=0.001, kernel=linear;, score=0.584 total time=   1.1s\n",
            "[CV 3/5] END .C=100, gamma=0.001, kernel=linear;, score=0.561 total time=   1.7s\n",
            "[CV 4/5] END .C=100, gamma=0.001, kernel=linear;, score=0.603 total time=   0.7s\n",
            "[CV 5/5] END .C=100, gamma=0.001, kernel=linear;, score=0.664 total time=   2.1s\n",
            "[CV 1/5] END ....C=100, gamma=0.001, kernel=rbf;, score=0.558 total time=   0.1s\n",
            "[CV 2/5] END ....C=100, gamma=0.001, kernel=rbf;, score=0.556 total time=   0.1s\n",
            "[CV 3/5] END ....C=100, gamma=0.001, kernel=rbf;, score=0.561 total time=   0.1s\n",
            "[CV 4/5] END ....C=100, gamma=0.001, kernel=rbf;, score=0.589 total time=   0.1s\n",
            "[CV 5/5] END ....C=100, gamma=0.001, kernel=rbf;, score=0.636 total time=   0.1s\n"
          ]
        },
        {
          "output_type": "execute_result",
          "data": {
            "text/plain": [
              "GridSearchCV(estimator=SVC(),\n",
              "             param_grid={'C': [0.1, 1, 10, 100], 'gamma': [1, 0.1, 0.01, 0.001],\n",
              "                         'kernel': ['linear', 'rbf']},\n",
              "             verbose=3)"
            ]
          },
          "metadata": {},
          "execution_count": 104
        }
      ]
    },
    {
      "cell_type": "code",
      "source": [
        "print(grid_model.best_estimator_)"
      ],
      "metadata": {
        "colab": {
          "base_uri": "https://localhost:8080/"
        },
        "id": "TOVwQfUdeykr",
        "outputId": "07ffd6c7-a208-475a-a6b5-b61df5b53bf9"
      },
      "execution_count": 105,
      "outputs": [
        {
          "output_type": "stream",
          "name": "stdout",
          "text": [
            "SVC(C=10, gamma=1)\n"
          ]
        }
      ]
    },
    {
      "cell_type": "markdown",
      "source": [
        "**Train Accuracy**"
      ],
      "metadata": {
        "id": "t6kv2_HbLQ9p"
      }
    },
    {
      "cell_type": "code",
      "source": [
        "grid_model.score(X_train_tf, y_train)"
      ],
      "metadata": {
        "colab": {
          "base_uri": "https://localhost:8080/"
        },
        "id": "u2jorIAaY-CW",
        "outputId": "17a4dd06-0d82-4b29-e398-c22d84a467a4"
      },
      "execution_count": 106,
      "outputs": [
        {
          "output_type": "execute_result",
          "data": {
            "text/plain": [
              "0.9990662931839402"
            ]
          },
          "metadata": {},
          "execution_count": 106
        }
      ]
    },
    {
      "cell_type": "markdown",
      "source": [
        "### **Test Data**"
      ],
      "metadata": {
        "id": "EB1w4Z3sNqw-"
      }
    },
    {
      "cell_type": "markdown",
      "source": [
        "**Test Accuracy**"
      ],
      "metadata": {
        "id": "3QySW-HiLT9k"
      }
    },
    {
      "cell_type": "code",
      "source": [
        "from sklearn.metrics import classification_report, confusion_matrix"
      ],
      "metadata": {
        "id": "VUj0D81N6jJu"
      },
      "execution_count": 107,
      "outputs": []
    },
    {
      "cell_type": "code",
      "source": [
        "grid_model_predictions = grid_model.predict(X_test_tf)\n",
        "print(\"--------------------------------------------------------\")\n",
        "print(\"COnfusion Matrix\")\n",
        "print(confusion_matrix(y_test,grid_model_predictions))\n",
        "print(\"--------------------------------------------------------\")\n",
        "print(\"Classification report\")\n",
        "print(classification_report(y_test,grid_model_predictions))\n",
        "print(\"--------------------------------------------------------\")"
      ],
      "metadata": {
        "colab": {
          "base_uri": "https://localhost:8080/"
        },
        "id": "7mboEkK6e2jz",
        "outputId": "b0608a3b-8846-4ad7-800f-253cd6d11fd2"
      },
      "execution_count": 108,
      "outputs": [
        {
          "output_type": "stream",
          "name": "stdout",
          "text": [
            "--------------------------------------------------------\n",
            "COnfusion Matrix\n",
            "[[  0   0   1   1   0   0]\n",
            " [  0   0  12   7   0   0]\n",
            " [  0   3 153  57   4   0]\n",
            " [  0   2  51 148  12   0]\n",
            " [  0   0   7  31  30   2]\n",
            " [  0   0   0   4   2   1]]\n",
            "--------------------------------------------------------\n",
            "Classification report\n",
            "              precision    recall  f1-score   support\n",
            "\n",
            "           3       0.00      0.00      0.00         2\n",
            "           4       0.00      0.00      0.00        19\n",
            "           5       0.68      0.71      0.69       217\n",
            "           6       0.60      0.69      0.64       213\n",
            "           7       0.62      0.43      0.51        70\n",
            "           8       0.33      0.14      0.20         7\n",
            "\n",
            "    accuracy                           0.63       528\n",
            "   macro avg       0.37      0.33      0.34       528\n",
            "weighted avg       0.61      0.63      0.61       528\n",
            "\n",
            "--------------------------------------------------------\n"
          ]
        }
      ]
    },
    {
      "cell_type": "markdown",
      "source": [
        "## **Sampling to handle imbalanced dataset**"
      ],
      "metadata": {
        "id": "bieVdycOhAmR"
      }
    },
    {
      "cell_type": "markdown",
      "source": [
        "**SMOTE-Tomek Sampling**"
      ],
      "metadata": {
        "id": "7gT3eDc9hJwb"
      }
    },
    {
      "cell_type": "code",
      "source": [
        "X.shape"
      ],
      "metadata": {
        "colab": {
          "base_uri": "https://localhost:8080/"
        },
        "id": "TlQaWnG_hgM6",
        "outputId": "281e506b-196a-4285-fd0d-ed1b98124eaa"
      },
      "execution_count": 109,
      "outputs": [
        {
          "output_type": "execute_result",
          "data": {
            "text/plain": [
              "(1599, 11)"
            ]
          },
          "metadata": {},
          "execution_count": 109
        }
      ]
    },
    {
      "cell_type": "code",
      "source": [
        "from imblearn.combine import SMOTETomek\n",
        "from imblearn.under_sampling import TomekLinks"
      ],
      "metadata": {
        "id": "csuYGqSchE5Z"
      },
      "execution_count": 110,
      "outputs": []
    },
    {
      "cell_type": "code",
      "source": [
        "resample = SMOTETomek(tomek=TomekLinks(sampling_strategy='majority'))\n",
        "sampled_x, sampled_y = resample.fit_resample(X, y)"
      ],
      "metadata": {
        "id": "hrtdTX08mbHf"
      },
      "execution_count": 111,
      "outputs": []
    },
    {
      "cell_type": "code",
      "source": [
        "print(sampled_x.shape)\n",
        "print(sampled_y.shape)"
      ],
      "metadata": {
        "colab": {
          "base_uri": "https://localhost:8080/"
        },
        "id": "25EtZ3oFhN6n",
        "outputId": "787b44f7-0edc-4a15-d3ad-a0222582f57b"
      },
      "execution_count": 112,
      "outputs": [
        {
          "output_type": "stream",
          "name": "stdout",
          "text": [
            "(4083, 11)\n",
            "(4083,)\n"
          ]
        }
      ]
    },
    {
      "cell_type": "markdown",
      "source": [
        "**Since our dfset shape has changed we need to perform train_test_split again**"
      ],
      "metadata": {
        "id": "-KL6TNd0hq37"
      }
    },
    {
      "cell_type": "code",
      "source": [
        "X_train_sm, X_test_sm, y_train_sm, y_test_sm = train_test_split(sampled_x, sampled_y, test_size=0.25, random_state=44)"
      ],
      "metadata": {
        "id": "xlONyLpMhpde"
      },
      "execution_count": 113,
      "outputs": []
    },
    {
      "cell_type": "markdown",
      "source": [
        "**Applying standardization to our model**\n"
      ],
      "metadata": {
        "id": "ovlZ3hDeh2w6"
      }
    },
    {
      "cell_type": "code",
      "source": [
        "scaler.fit(X_train)\n",
        "X_train_tf_sm = scaler.transform(X_train_sm)\n",
        "X_test_tf_sm = scaler.transform(X_test_sm)"
      ],
      "metadata": {
        "id": "4PUXlQKRhvna"
      },
      "execution_count": 114,
      "outputs": []
    },
    {
      "cell_type": "code",
      "source": [
        "grid_model.fit(X_train_tf_sm, y_train_sm)"
      ],
      "metadata": {
        "colab": {
          "base_uri": "https://localhost:8080/"
        },
        "id": "x-BHdDa3h2Mq",
        "outputId": "ce724786-7593-4ca6-effc-5a87b73af4ff"
      },
      "execution_count": 115,
      "outputs": [
        {
          "output_type": "stream",
          "name": "stdout",
          "text": [
            "Fitting 5 folds for each of 32 candidates, totalling 160 fits\n",
            "[CV 1/5] END .....C=0.1, gamma=1, kernel=linear;, score=0.594 total time=   0.2s\n",
            "[CV 2/5] END .....C=0.1, gamma=1, kernel=linear;, score=0.608 total time=   0.2s\n",
            "[CV 3/5] END .....C=0.1, gamma=1, kernel=linear;, score=0.596 total time=   0.2s\n",
            "[CV 4/5] END .....C=0.1, gamma=1, kernel=linear;, score=0.564 total time=   0.2s\n",
            "[CV 5/5] END .....C=0.1, gamma=1, kernel=linear;, score=0.605 total time=   0.2s\n",
            "[CV 1/5] END ........C=0.1, gamma=1, kernel=rbf;, score=0.553 total time=   0.6s\n",
            "[CV 2/5] END ........C=0.1, gamma=1, kernel=rbf;, score=0.597 total time=   0.6s\n",
            "[CV 3/5] END ........C=0.1, gamma=1, kernel=rbf;, score=0.583 total time=   0.6s\n",
            "[CV 4/5] END ........C=0.1, gamma=1, kernel=rbf;, score=0.560 total time=   0.6s\n",
            "[CV 5/5] END ........C=0.1, gamma=1, kernel=rbf;, score=0.619 total time=   0.6s\n",
            "[CV 1/5] END ...C=0.1, gamma=0.1, kernel=linear;, score=0.594 total time=   0.2s\n",
            "[CV 2/5] END ...C=0.1, gamma=0.1, kernel=linear;, score=0.608 total time=   0.2s\n",
            "[CV 3/5] END ...C=0.1, gamma=0.1, kernel=linear;, score=0.596 total time=   0.2s\n",
            "[CV 4/5] END ...C=0.1, gamma=0.1, kernel=linear;, score=0.564 total time=   0.2s\n",
            "[CV 5/5] END ...C=0.1, gamma=0.1, kernel=linear;, score=0.605 total time=   0.2s\n",
            "[CV 1/5] END ......C=0.1, gamma=0.1, kernel=rbf;, score=0.654 total time=   0.4s\n",
            "[CV 2/5] END ......C=0.1, gamma=0.1, kernel=rbf;, score=0.617 total time=   0.4s\n",
            "[CV 3/5] END ......C=0.1, gamma=0.1, kernel=rbf;, score=0.593 total time=   0.4s\n",
            "[CV 4/5] END ......C=0.1, gamma=0.1, kernel=rbf;, score=0.593 total time=   0.4s\n",
            "[CV 5/5] END ......C=0.1, gamma=0.1, kernel=rbf;, score=0.611 total time=   0.4s\n",
            "[CV 1/5] END ..C=0.1, gamma=0.01, kernel=linear;, score=0.594 total time=   0.2s\n",
            "[CV 2/5] END ..C=0.1, gamma=0.01, kernel=linear;, score=0.608 total time=   0.2s\n",
            "[CV 3/5] END ..C=0.1, gamma=0.01, kernel=linear;, score=0.596 total time=   0.2s\n",
            "[CV 4/5] END ..C=0.1, gamma=0.01, kernel=linear;, score=0.564 total time=   0.2s\n",
            "[CV 5/5] END ..C=0.1, gamma=0.01, kernel=linear;, score=0.605 total time=   0.2s\n",
            "[CV 1/5] END .....C=0.1, gamma=0.01, kernel=rbf;, score=0.529 total time=   0.5s\n",
            "[CV 2/5] END .....C=0.1, gamma=0.01, kernel=rbf;, score=0.551 total time=   0.5s\n",
            "[CV 3/5] END .....C=0.1, gamma=0.01, kernel=rbf;, score=0.511 total time=   0.5s\n",
            "[CV 4/5] END .....C=0.1, gamma=0.01, kernel=rbf;, score=0.497 total time=   0.5s\n",
            "[CV 5/5] END .....C=0.1, gamma=0.01, kernel=rbf;, score=0.528 total time=   0.5s\n",
            "[CV 1/5] END .C=0.1, gamma=0.001, kernel=linear;, score=0.594 total time=   0.2s\n",
            "[CV 2/5] END .C=0.1, gamma=0.001, kernel=linear;, score=0.608 total time=   0.2s\n",
            "[CV 3/5] END .C=0.1, gamma=0.001, kernel=linear;, score=0.596 total time=   0.2s\n",
            "[CV 4/5] END .C=0.1, gamma=0.001, kernel=linear;, score=0.564 total time=   0.2s\n",
            "[CV 5/5] END .C=0.1, gamma=0.001, kernel=linear;, score=0.605 total time=   0.2s\n",
            "[CV 1/5] END ....C=0.1, gamma=0.001, kernel=rbf;, score=0.287 total time=   0.7s\n",
            "[CV 2/5] END ....C=0.1, gamma=0.001, kernel=rbf;, score=0.292 total time=   0.7s\n",
            "[CV 3/5] END ....C=0.1, gamma=0.001, kernel=rbf;, score=0.279 total time=   0.7s\n",
            "[CV 4/5] END ....C=0.1, gamma=0.001, kernel=rbf;, score=0.270 total time=   0.7s\n",
            "[CV 5/5] END ....C=0.1, gamma=0.001, kernel=rbf;, score=0.304 total time=   0.7s\n",
            "[CV 1/5] END .......C=1, gamma=1, kernel=linear;, score=0.600 total time=   0.3s\n",
            "[CV 2/5] END .......C=1, gamma=1, kernel=linear;, score=0.626 total time=   0.3s\n",
            "[CV 3/5] END .......C=1, gamma=1, kernel=linear;, score=0.614 total time=   0.3s\n",
            "[CV 4/5] END .......C=1, gamma=1, kernel=linear;, score=0.578 total time=   0.3s\n",
            "[CV 5/5] END .......C=1, gamma=1, kernel=linear;, score=0.626 total time=   0.3s\n",
            "[CV 1/5] END ..........C=1, gamma=1, kernel=rbf;, score=0.824 total time=   0.5s\n",
            "[CV 2/5] END ..........C=1, gamma=1, kernel=rbf;, score=0.860 total time=   0.6s\n",
            "[CV 3/5] END ..........C=1, gamma=1, kernel=rbf;, score=0.846 total time=   0.6s\n",
            "[CV 4/5] END ..........C=1, gamma=1, kernel=rbf;, score=0.848 total time=   0.5s\n",
            "[CV 5/5] END ..........C=1, gamma=1, kernel=rbf;, score=0.858 total time=   0.6s\n",
            "[CV 1/5] END .....C=1, gamma=0.1, kernel=linear;, score=0.600 total time=   0.3s\n",
            "[CV 2/5] END .....C=1, gamma=0.1, kernel=linear;, score=0.626 total time=   0.3s\n",
            "[CV 3/5] END .....C=1, gamma=0.1, kernel=linear;, score=0.614 total time=   0.3s\n",
            "[CV 4/5] END .....C=1, gamma=0.1, kernel=linear;, score=0.578 total time=   0.3s\n",
            "[CV 5/5] END .....C=1, gamma=0.1, kernel=linear;, score=0.626 total time=   0.3s\n",
            "[CV 1/5] END ........C=1, gamma=0.1, kernel=rbf;, score=0.755 total time=   0.3s\n",
            "[CV 2/5] END ........C=1, gamma=0.1, kernel=rbf;, score=0.772 total time=   0.3s\n",
            "[CV 3/5] END ........C=1, gamma=0.1, kernel=rbf;, score=0.766 total time=   0.3s\n",
            "[CV 4/5] END ........C=1, gamma=0.1, kernel=rbf;, score=0.725 total time=   0.3s\n",
            "[CV 5/5] END ........C=1, gamma=0.1, kernel=rbf;, score=0.771 total time=   0.3s\n",
            "[CV 1/5] END ....C=1, gamma=0.01, kernel=linear;, score=0.600 total time=   0.3s\n",
            "[CV 2/5] END ....C=1, gamma=0.01, kernel=linear;, score=0.626 total time=   0.3s\n",
            "[CV 3/5] END ....C=1, gamma=0.01, kernel=linear;, score=0.614 total time=   0.3s\n",
            "[CV 4/5] END ....C=1, gamma=0.01, kernel=linear;, score=0.578 total time=   0.3s\n",
            "[CV 5/5] END ....C=1, gamma=0.01, kernel=linear;, score=0.626 total time=   0.3s\n",
            "[CV 1/5] END .......C=1, gamma=0.01, kernel=rbf;, score=0.618 total time=   0.4s\n",
            "[CV 2/5] END .......C=1, gamma=0.01, kernel=rbf;, score=0.605 total time=   0.4s\n",
            "[CV 3/5] END .......C=1, gamma=0.01, kernel=rbf;, score=0.600 total time=   0.4s\n",
            "[CV 4/5] END .......C=1, gamma=0.01, kernel=rbf;, score=0.598 total time=   0.4s\n",
            "[CV 5/5] END .......C=1, gamma=0.01, kernel=rbf;, score=0.588 total time=   0.4s\n",
            "[CV 1/5] END ...C=1, gamma=0.001, kernel=linear;, score=0.600 total time=   0.3s\n",
            "[CV 2/5] END ...C=1, gamma=0.001, kernel=linear;, score=0.626 total time=   0.3s\n",
            "[CV 3/5] END ...C=1, gamma=0.001, kernel=linear;, score=0.614 total time=   0.3s\n",
            "[CV 4/5] END ...C=1, gamma=0.001, kernel=linear;, score=0.578 total time=   0.3s\n",
            "[CV 5/5] END ...C=1, gamma=0.001, kernel=linear;, score=0.626 total time=   0.3s\n",
            "[CV 1/5] END ......C=1, gamma=0.001, kernel=rbf;, score=0.520 total time=   0.5s\n",
            "[CV 2/5] END ......C=1, gamma=0.001, kernel=rbf;, score=0.556 total time=   0.5s\n",
            "[CV 3/5] END ......C=1, gamma=0.001, kernel=rbf;, score=0.503 total time=   0.5s\n",
            "[CV 4/5] END ......C=1, gamma=0.001, kernel=rbf;, score=0.507 total time=   0.5s\n",
            "[CV 5/5] END ......C=1, gamma=0.001, kernel=rbf;, score=0.529 total time=   0.5s\n",
            "[CV 1/5] END ......C=10, gamma=1, kernel=linear;, score=0.599 total time=   0.9s\n",
            "[CV 2/5] END ......C=10, gamma=1, kernel=linear;, score=0.625 total time=   0.8s\n",
            "[CV 3/5] END ......C=10, gamma=1, kernel=linear;, score=0.626 total time=   0.9s\n",
            "[CV 4/5] END ......C=10, gamma=1, kernel=linear;, score=0.585 total time=   0.8s\n",
            "[CV 5/5] END ......C=10, gamma=1, kernel=linear;, score=0.629 total time=   0.9s\n",
            "[CV 1/5] END .........C=10, gamma=1, kernel=rbf;, score=0.816 total time=   0.5s\n",
            "[CV 2/5] END .........C=10, gamma=1, kernel=rbf;, score=0.865 total time=   0.6s\n",
            "[CV 3/5] END .........C=10, gamma=1, kernel=rbf;, score=0.856 total time=   0.6s\n",
            "[CV 4/5] END .........C=10, gamma=1, kernel=rbf;, score=0.869 total time=   0.6s\n",
            "[CV 5/5] END .........C=10, gamma=1, kernel=rbf;, score=0.851 total time=   0.6s\n",
            "[CV 1/5] END ....C=10, gamma=0.1, kernel=linear;, score=0.599 total time=   0.8s\n",
            "[CV 2/5] END ....C=10, gamma=0.1, kernel=linear;, score=0.625 total time=   0.8s\n",
            "[CV 3/5] END ....C=10, gamma=0.1, kernel=linear;, score=0.626 total time=   0.9s\n",
            "[CV 4/5] END ....C=10, gamma=0.1, kernel=linear;, score=0.585 total time=   0.7s\n",
            "[CV 5/5] END ....C=10, gamma=0.1, kernel=linear;, score=0.629 total time=   0.9s\n",
            "[CV 1/5] END .......C=10, gamma=0.1, kernel=rbf;, score=0.808 total time=   0.3s\n",
            "[CV 2/5] END .......C=10, gamma=0.1, kernel=rbf;, score=0.832 total time=   0.3s\n",
            "[CV 3/5] END .......C=10, gamma=0.1, kernel=rbf;, score=0.822 total time=   0.3s\n",
            "[CV 4/5] END .......C=10, gamma=0.1, kernel=rbf;, score=0.786 total time=   0.3s\n",
            "[CV 5/5] END .......C=10, gamma=0.1, kernel=rbf;, score=0.835 total time=   0.3s\n",
            "[CV 1/5] END ...C=10, gamma=0.01, kernel=linear;, score=0.599 total time=   0.8s\n",
            "[CV 2/5] END ...C=10, gamma=0.01, kernel=linear;, score=0.625 total time=   0.8s\n",
            "[CV 3/5] END ...C=10, gamma=0.01, kernel=linear;, score=0.626 total time=   0.9s\n",
            "[CV 4/5] END ...C=10, gamma=0.01, kernel=linear;, score=0.585 total time=   0.8s\n",
            "[CV 5/5] END ...C=10, gamma=0.01, kernel=linear;, score=0.629 total time=   0.9s\n",
            "[CV 1/5] END ......C=10, gamma=0.01, kernel=rbf;, score=0.706 total time=   0.3s\n",
            "[CV 2/5] END ......C=10, gamma=0.01, kernel=rbf;, score=0.698 total time=   0.3s\n",
            "[CV 3/5] END ......C=10, gamma=0.01, kernel=rbf;, score=0.716 total time=   0.3s\n",
            "[CV 4/5] END ......C=10, gamma=0.01, kernel=rbf;, score=0.649 total time=   0.3s\n",
            "[CV 5/5] END ......C=10, gamma=0.01, kernel=rbf;, score=0.706 total time=   0.3s\n",
            "[CV 1/5] END ..C=10, gamma=0.001, kernel=linear;, score=0.599 total time=   0.8s\n",
            "[CV 2/5] END ..C=10, gamma=0.001, kernel=linear;, score=0.625 total time=   0.8s\n",
            "[CV 3/5] END ..C=10, gamma=0.001, kernel=linear;, score=0.626 total time=   0.9s\n",
            "[CV 4/5] END ..C=10, gamma=0.001, kernel=linear;, score=0.585 total time=   0.8s\n",
            "[CV 5/5] END ..C=10, gamma=0.001, kernel=linear;, score=0.629 total time=   0.9s\n",
            "[CV 1/5] END .....C=10, gamma=0.001, kernel=rbf;, score=0.602 total time=   0.4s\n",
            "[CV 2/5] END .....C=10, gamma=0.001, kernel=rbf;, score=0.591 total time=   0.4s\n",
            "[CV 3/5] END .....C=10, gamma=0.001, kernel=rbf;, score=0.583 total time=   0.4s\n",
            "[CV 4/5] END .....C=10, gamma=0.001, kernel=rbf;, score=0.572 total time=   0.4s\n",
            "[CV 5/5] END .....C=10, gamma=0.001, kernel=rbf;, score=0.582 total time=   0.4s\n",
            "[CV 1/5] END .....C=100, gamma=1, kernel=linear;, score=0.600 total time=   5.0s\n",
            "[CV 2/5] END .....C=100, gamma=1, kernel=linear;, score=0.628 total time=   4.5s\n",
            "[CV 3/5] END .....C=100, gamma=1, kernel=linear;, score=0.623 total time=   5.2s\n",
            "[CV 4/5] END .....C=100, gamma=1, kernel=linear;, score=0.585 total time=   4.9s\n",
            "[CV 5/5] END .....C=100, gamma=1, kernel=linear;, score=0.629 total time=   5.8s\n",
            "[CV 1/5] END ........C=100, gamma=1, kernel=rbf;, score=0.816 total time=   0.5s\n",
            "[CV 2/5] END ........C=100, gamma=1, kernel=rbf;, score=0.873 total time=   0.6s\n",
            "[CV 3/5] END ........C=100, gamma=1, kernel=rbf;, score=0.859 total time=   0.6s\n",
            "[CV 4/5] END ........C=100, gamma=1, kernel=rbf;, score=0.868 total time=   0.6s\n",
            "[CV 5/5] END ........C=100, gamma=1, kernel=rbf;, score=0.845 total time=   0.6s\n",
            "[CV 1/5] END ...C=100, gamma=0.1, kernel=linear;, score=0.600 total time=   5.0s\n",
            "[CV 2/5] END ...C=100, gamma=0.1, kernel=linear;, score=0.628 total time=   4.5s\n",
            "[CV 3/5] END ...C=100, gamma=0.1, kernel=linear;, score=0.623 total time=   5.2s\n",
            "[CV 4/5] END ...C=100, gamma=0.1, kernel=linear;, score=0.585 total time=   4.9s\n",
            "[CV 5/5] END ...C=100, gamma=0.1, kernel=linear;, score=0.629 total time=   5.8s\n",
            "[CV 1/5] END ......C=100, gamma=0.1, kernel=rbf;, score=0.829 total time=   0.3s\n",
            "[CV 2/5] END ......C=100, gamma=0.1, kernel=rbf;, score=0.838 total time=   0.3s\n",
            "[CV 3/5] END ......C=100, gamma=0.1, kernel=rbf;, score=0.864 total time=   0.4s\n",
            "[CV 4/5] END ......C=100, gamma=0.1, kernel=rbf;, score=0.840 total time=   0.3s\n",
            "[CV 5/5] END ......C=100, gamma=0.1, kernel=rbf;, score=0.846 total time=   0.4s\n",
            "[CV 1/5] END ..C=100, gamma=0.01, kernel=linear;, score=0.600 total time=   5.1s\n",
            "[CV 2/5] END ..C=100, gamma=0.01, kernel=linear;, score=0.628 total time=   4.5s\n",
            "[CV 3/5] END ..C=100, gamma=0.01, kernel=linear;, score=0.623 total time=   5.2s\n",
            "[CV 4/5] END ..C=100, gamma=0.01, kernel=linear;, score=0.585 total time=   4.9s\n",
            "[CV 5/5] END ..C=100, gamma=0.01, kernel=linear;, score=0.629 total time=   5.8s\n",
            "[CV 1/5] END .....C=100, gamma=0.01, kernel=rbf;, score=0.763 total time=   0.3s\n",
            "[CV 2/5] END .....C=100, gamma=0.01, kernel=rbf;, score=0.773 total time=   0.3s\n",
            "[CV 3/5] END .....C=100, gamma=0.01, kernel=rbf;, score=0.779 total time=   0.3s\n",
            "[CV 4/5] END .....C=100, gamma=0.01, kernel=rbf;, score=0.730 total time=   0.3s\n",
            "[CV 5/5] END .....C=100, gamma=0.01, kernel=rbf;, score=0.765 total time=   0.3s\n",
            "[CV 1/5] END .C=100, gamma=0.001, kernel=linear;, score=0.600 total time=   5.0s\n",
            "[CV 2/5] END .C=100, gamma=0.001, kernel=linear;, score=0.628 total time=   4.5s\n",
            "[CV 3/5] END .C=100, gamma=0.001, kernel=linear;, score=0.623 total time=   5.2s\n",
            "[CV 4/5] END .C=100, gamma=0.001, kernel=linear;, score=0.585 total time=   5.0s\n",
            "[CV 5/5] END .C=100, gamma=0.001, kernel=linear;, score=0.629 total time=   5.8s\n",
            "[CV 1/5] END ....C=100, gamma=0.001, kernel=rbf;, score=0.610 total time=   0.3s\n",
            "[CV 2/5] END ....C=100, gamma=0.001, kernel=rbf;, score=0.641 total time=   0.3s\n",
            "[CV 3/5] END ....C=100, gamma=0.001, kernel=rbf;, score=0.642 total time=   0.3s\n",
            "[CV 4/5] END ....C=100, gamma=0.001, kernel=rbf;, score=0.601 total time=   0.3s\n",
            "[CV 5/5] END ....C=100, gamma=0.001, kernel=rbf;, score=0.641 total time=   0.3s\n"
          ]
        },
        {
          "output_type": "execute_result",
          "data": {
            "text/plain": [
              "GridSearchCV(estimator=SVC(),\n",
              "             param_grid={'C': [0.1, 1, 10, 100], 'gamma': [1, 0.1, 0.01, 0.001],\n",
              "                         'kernel': ['linear', 'rbf']},\n",
              "             verbose=3)"
            ]
          },
          "metadata": {},
          "execution_count": 115
        }
      ]
    },
    {
      "cell_type": "markdown",
      "source": [
        "**Train Accuracy**\n"
      ],
      "metadata": {
        "id": "CTjlrn3MjA1_"
      }
    },
    {
      "cell_type": "code",
      "source": [
        "grid_model.score(X_train_tf_sm, y_train_sm)"
      ],
      "metadata": {
        "colab": {
          "base_uri": "https://localhost:8080/"
        },
        "id": "Qi56lusvidns",
        "outputId": "9b4b8097-4746-403a-e26b-76951fe22735"
      },
      "execution_count": 116,
      "outputs": [
        {
          "output_type": "execute_result",
          "data": {
            "text/plain": [
              "1.0"
            ]
          },
          "metadata": {},
          "execution_count": 116
        }
      ]
    },
    {
      "cell_type": "markdown",
      "source": [
        "### **Test Data**"
      ],
      "metadata": {
        "id": "iLMlFGEKNi0e"
      }
    },
    {
      "cell_type": "markdown",
      "source": [
        "**Prediction on Test Data**"
      ],
      "metadata": {
        "id": "9Qgs7n_QNfUc"
      }
    },
    {
      "cell_type": "code",
      "source": [
        "y_predict_grid_sm = grid_model.predict(X_test_tf_sm)"
      ],
      "metadata": {
        "id": "e4pUdMvoidsp"
      },
      "execution_count": 117,
      "outputs": []
    },
    {
      "cell_type": "markdown",
      "source": [
        "**Test Accuracy**\n"
      ],
      "metadata": {
        "id": "MjtZXeF5i-Eq"
      }
    },
    {
      "cell_type": "code",
      "source": [
        "from sklearn.metrics import classification_report, confusion_matrix"
      ],
      "metadata": {
        "id": "5zEbQL_oM8sC"
      },
      "execution_count": 118,
      "outputs": []
    },
    {
      "cell_type": "code",
      "source": [
        "print(\"--------------------------------------------------------\")\n",
        "print(\"COnfusion Matrix\")\n",
        "print(confusion_matrix(y_test_sm,y_predict_grid_sm))\n",
        "print(\"--------------------------------------------------------\")\n",
        "print(\"Classification report\")\n",
        "print(classification_report(y_test_sm,y_predict_grid_sm))\n",
        "print(\"--------------------------------------------------------\")"
      ],
      "metadata": {
        "colab": {
          "base_uri": "https://localhost:8080/"
        },
        "outputId": "ff0704bc-609b-4e74-8392-a2caed56bdc3",
        "id": "1tzHS9IlM8sD"
      },
      "execution_count": 119,
      "outputs": [
        {
          "output_type": "stream",
          "name": "stdout",
          "text": [
            "--------------------------------------------------------\n",
            "COnfusion Matrix\n",
            "[[151   0   0   0   0   0]\n",
            " [  0 170  10   6   0   0]\n",
            " [  0   8 113  55   2   1]\n",
            " [  0   4  26 120  16   0]\n",
            " [  0   0   1  12 156   1]\n",
            " [  0   0   0   0   0 169]]\n",
            "--------------------------------------------------------\n",
            "Classification report\n",
            "              precision    recall  f1-score   support\n",
            "\n",
            "           3       1.00      1.00      1.00       151\n",
            "           4       0.93      0.91      0.92       186\n",
            "           5       0.75      0.63      0.69       179\n",
            "           6       0.62      0.72      0.67       166\n",
            "           7       0.90      0.92      0.91       170\n",
            "           8       0.99      1.00      0.99       169\n",
            "\n",
            "    accuracy                           0.86      1021\n",
            "   macro avg       0.87      0.86      0.86      1021\n",
            "weighted avg       0.86      0.86      0.86      1021\n",
            "\n",
            "--------------------------------------------------------\n"
          ]
        }
      ]
    },
    {
      "cell_type": "markdown",
      "source": [
        "# **Logistic Regression Model**"
      ],
      "metadata": {
        "id": "ay1Mc23oYTnH"
      }
    },
    {
      "cell_type": "code",
      "source": [
        "from sklearn.linear_model import LogisticRegression"
      ],
      "metadata": {
        "id": "AV53qlgubabi"
      },
      "execution_count": 120,
      "outputs": []
    },
    {
      "cell_type": "code",
      "source": [
        "LR_model = LogisticRegression()"
      ],
      "metadata": {
        "id": "RKm8Jpf9bcEB"
      },
      "execution_count": 121,
      "outputs": []
    },
    {
      "cell_type": "code",
      "source": [
        "LR_model.fit(X_train_tf,y_train)"
      ],
      "metadata": {
        "colab": {
          "base_uri": "https://localhost:8080/"
        },
        "id": "zr2uYGyXbdEJ",
        "outputId": "89cf9e04-a112-4d46-e4b9-dbcfff794401"
      },
      "execution_count": 122,
      "outputs": [
        {
          "output_type": "execute_result",
          "data": {
            "text/plain": [
              "LogisticRegression()"
            ]
          },
          "metadata": {},
          "execution_count": 122
        }
      ]
    },
    {
      "cell_type": "markdown",
      "source": [
        "**Train Accuracy**"
      ],
      "metadata": {
        "id": "DhkAKtiyshzH"
      }
    },
    {
      "cell_type": "code",
      "source": [
        "LR_model.score(X_train_tf,y_train)"
      ],
      "metadata": {
        "colab": {
          "base_uri": "https://localhost:8080/"
        },
        "id": "buMEPGD7YiUZ",
        "outputId": "c31df97e-347d-4b62-ca45-7843714fae4b"
      },
      "execution_count": 123,
      "outputs": [
        {
          "output_type": "execute_result",
          "data": {
            "text/plain": [
              "0.6218487394957983"
            ]
          },
          "metadata": {},
          "execution_count": 123
        }
      ]
    },
    {
      "cell_type": "markdown",
      "source": [
        "### **Test Data**"
      ],
      "metadata": {
        "id": "IgxXyQm5NxOl"
      }
    },
    {
      "cell_type": "code",
      "source": [
        "y_predict_LR=LR_model.predict(X_test_tf)"
      ],
      "metadata": {
        "id": "Kjx4QHM7beOa"
      },
      "execution_count": 124,
      "outputs": []
    },
    {
      "cell_type": "markdown",
      "source": [
        "**Test Accuracy**"
      ],
      "metadata": {
        "id": "erOMbRHusjk9"
      }
    },
    {
      "cell_type": "code",
      "source": [
        "from sklearn.metrics import classification_report, confusion_matrix"
      ],
      "metadata": {
        "id": "B56CxvW_ONw9"
      },
      "execution_count": 125,
      "outputs": []
    },
    {
      "cell_type": "code",
      "source": [
        "print(\"--------------------------------------------------------\")\n",
        "print(\"COnfusion Matrix\")\n",
        "print(confusion_matrix(y_test,y_predict_LR))\n",
        "print(\"--------------------------------------------------------\")\n",
        "print(\"Classification report\")\n",
        "print(classification_report(y_test,y_predict_LR))\n",
        "print(\"--------------------------------------------------------\")"
      ],
      "metadata": {
        "colab": {
          "base_uri": "https://localhost:8080/"
        },
        "outputId": "a514f3fc-f4a2-4750-bd7d-edb84525f2cc",
        "id": "ZY3MbhXSN5Q0"
      },
      "execution_count": 126,
      "outputs": [
        {
          "output_type": "stream",
          "name": "stdout",
          "text": [
            "--------------------------------------------------------\n",
            "COnfusion Matrix\n",
            "[[  1   0   1   0   0   0]\n",
            " [  0   1  10   7   1   0]\n",
            " [  1   0 164  52   0   0]\n",
            " [  0   0  78 119  16   0]\n",
            " [  0   0   5  48  17   0]\n",
            " [  0   0   0   2   5   0]]\n",
            "--------------------------------------------------------\n",
            "Classification report\n",
            "              precision    recall  f1-score   support\n",
            "\n",
            "           3       0.50      0.50      0.50         2\n",
            "           4       1.00      0.05      0.10        19\n",
            "           5       0.64      0.76      0.69       217\n",
            "           6       0.52      0.56      0.54       213\n",
            "           7       0.44      0.24      0.31        70\n",
            "           8       0.00      0.00      0.00         7\n",
            "\n",
            "    accuracy                           0.57       528\n",
            "   macro avg       0.52      0.35      0.36       528\n",
            "weighted avg       0.57      0.57      0.55       528\n",
            "\n",
            "--------------------------------------------------------\n"
          ]
        }
      ]
    },
    {
      "cell_type": "markdown",
      "source": [
        "# **Conclusion**"
      ],
      "metadata": {
        "id": "BXAgJAygR7mc"
      }
    },
    {
      "cell_type": "code",
      "source": [
        "from sklearn.metrics import accuracy_score"
      ],
      "metadata": {
        "id": "mtt9eqELR-I3"
      },
      "execution_count": 127,
      "outputs": []
    },
    {
      "cell_type": "code",
      "source": [
        "print(\"Final Test Accuracy Score of all the Models\")\n",
        "print(\"--------------------------------------------------------\")\n",
        "print(f\"SVC without optimization : {round(accuracy_score(y_test,y_predict_SVC),2)}\")\n",
        "print(f\"SVC after grid search cv optimization : {round(accuracy_score(y_test,grid_model_predictions),2)}\")\n",
        "print(f\"SVC after sampling using grid search cv : {round(accuracy_score(y_test_sm,y_predict_grid_sm),2)}\")\n",
        "print(f\"Logistic Rggression : {round(accuracy_score(y_test,y_predict_LR),2)}\")"
      ],
      "metadata": {
        "colab": {
          "base_uri": "https://localhost:8080/"
        },
        "id": "ZavcYh99p3_O",
        "outputId": "127fecc7-e3e9-4de1-8285-cba753a9a03d"
      },
      "execution_count": 128,
      "outputs": [
        {
          "output_type": "stream",
          "name": "stdout",
          "text": [
            "Final Test Accuracy Score of all the Models\n",
            "--------------------------------------------------------\n",
            "SVC without optimization : 0.6\n",
            "SVC after grid search cv optimization : 0.63\n",
            "SVC after sampling using grid search cv : 0.86\n",
            "Logistic Rggression : 0.57\n"
          ]
        }
      ]
    }
  ]
}